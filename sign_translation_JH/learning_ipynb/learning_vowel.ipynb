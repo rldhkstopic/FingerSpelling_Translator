{
 "cells": [
  {
   "cell_type": "code",
   "execution_count": 2,
   "metadata": {},
   "outputs": [],
   "source": [
    "# for json file Load\n",
    "import json\n",
    "import numpy as np\n",
    "import matplotlib.pyplot as plt\n",
    "import torch\n",
    "import tqdm"
   ]
  },
  {
   "cell_type": "code",
   "execution_count": 3,
   "metadata": {},
   "outputs": [],
   "source": [
    "\n",
    "Target = [ \n",
    "            {'key' : 'ㅏ', 'eng' : 'a', 'label' : 14}, \n",
    "            {'key' : 'ㅑ', 'eng' : 'ya', 'label' : 15}, \n",
    "            {'key' : 'ㅓ', 'eng' : 'eo', 'label' : 16}, \n",
    "            {'key' : 'ㅕ', 'eng' : 'yeo', 'label' : 17}, \n",
    "            {'key' : 'ㅗ', 'eng' : 'o', 'label' : 18}, \n",
    "            {'key' : 'ㅛ', 'eng' : 'yo', 'label' : 19}, \n",
    "            {'key' : 'ㅜ', 'eng' : 'u', 'label' : 20}, \n",
    "            {'key' : 'ㅠ', 'eng' : 'yu', 'label' : 21}, \n",
    "            {'key' : 'ㅡ', 'eng' : 'eu', 'label' : 22}, \n",
    "            {'key' : 'ㅣ', 'eng' : 'i', 'label' : 23}, \n",
    "            {'key' : 'ㅔ', 'eng' : 'e', 'label' : 24}, \n",
    "            {'key' : 'ㅖ', 'eng' : 'ye', 'label' : 25}, \n",
    "            {'key' : 'ㅐ', 'eng' : 'ae', 'label' : 26}, \n",
    "            {'key' : 'ㅡ', 'eng' : 'yae', 'label' : 27}, \n",
    "            {'key' : 'ㅢ', 'eng' : 'ui', 'label' : 28}, \n",
    "            {'key' : 'ㅚ', 'eng' : 'oe', 'label' : 29}, \n",
    "            {'key' : 'ㅟ', 'eng' : 'wi', 'label' : 30}, \n",
    "\n",
    "        ]\n",
    "\n"
   ]
  },
  {
   "cell_type": "code",
   "execution_count": 4,
   "metadata": {},
   "outputs": [],
   "source": [
    "# giyeok_data = json.load(open('./dataset/1_giyeok_hand_landmarks.json'))\n",
    "# nieun_data = json.load(open('./dataset/2_nieun_hand_landmarks.json'))\n",
    "# digeut_data = json.load(open('./dataset/3_digeut_hand_landmarks.json'))\n",
    "# rieul_data = json.load(open('./dataset/4_rieul_hand_landmarks.json'))\n",
    "# mieum_data = json.load(open('./dataset/5_mieum_hand_landmarks.json'))\n",
    "# bieup_data = json.load(open('./dataset/6_bieup_hand_landmarks.json'))\n",
    "# siot_data = json.load(open('./dataset/7_siot_hand_landmarks.json'))\n",
    "# ieung_data = json.load(open('./dataset/8_ieung_hand_landmarks.json'))\n",
    "# jieut_data = json.load(open('./dataset/9_jieut_hand_landmarks.json'))\n",
    "# chieut_data = json.load(open('./dataset/10_chieut_hand_landmarks.json'))\n",
    "# kieuk_data = json.load(open('./dataset/11_kieuk_hand_landmarks.json'))\n",
    "# tieut_data = json.load(open('./dataset/12_tieut_hand_landmarks.json'))\n",
    "# pieup_data = json.load(open('./dataset/13_pieup_hand_landmarks.json'))\n",
    "# hieut_data = json.load(open('./dataset/14_hieut_hand_landmarks.json'))\n",
    "\n",
    "a_data = json.load(open('./dataset/15_a_hand_landmarks.json'))\n",
    "ya_data = json.load(open('./dataset/16_ya_hand_landmarks.json'))\n",
    "eo_data = json.load(open('./dataset/17_eo_hand_landmarks.json'))\n",
    "yeo_data = json.load(open('./dataset/18_yeo_hand_landmarks.json'))\n",
    "o_data = json.load(open('./dataset/19_o_hand_landmarks.json'))\n",
    "yo_data = json.load(open('./dataset/20_yo_hand_landmarks.json'))\n",
    "u_data = json.load(open('./dataset/21_u_hand_landmarks.json'))\n",
    "yu_data = json.load(open('./dataset/22_yu_hand_landmarks.json'))\n",
    "eu_data = json.load(open('./dataset/23_eu_hand_landmarks.json'))\n",
    "i_data = json.load(open('./dataset/24_i_hand_landmarks.json'))\n",
    "e_data = json.load(open('./dataset/25_e_hand_landmarks.json'))\n",
    "ye_data = json.load(open('./dataset/26_ye_hand_landmarks.json'))\n",
    "ae_data = json.load(open('./dataset/27_ae_hand_landmarks.json'))\n",
    "yae_data = json.load(open('./dataset/28_yae_hand_landmarks.json'))\n",
    "ui_data = json.load(open('./dataset/29_ui_hand_landmarks.json'))\n",
    "oe_data = json.load(open('./dataset/30_oe_hand_landmarks.json'))\n",
    "wi_data = json.load(open('./dataset/31_wi_hand_landmarks.json'))\n"
   ]
  },
  {
   "cell_type": "code",
   "execution_count": 5,
   "metadata": {},
   "outputs": [],
   "source": [
    "def landmarks(data):\n",
    "    return np.array([[landmark['x'], landmark['y'], landmark['z']] for landmark in data]).transpose()\n"
   ]
  },
  {
   "cell_type": "code",
   "execution_count": 7,
   "metadata": {},
   "outputs": [
    {
     "name": "stdout",
     "output_type": "stream",
     "text": [
      "(400, 3, 21)\n",
      "(400, 3, 21)\n",
      "(400, 3, 21)\n",
      "(400, 3, 21)\n",
      "(400, 3, 21)\n",
      "(400, 3, 21)\n",
      "(400, 3, 21)\n",
      "(400, 3, 21)\n",
      "(400, 3, 21)\n",
      "(400, 3, 21)\n",
      "(400, 3, 21)\n",
      "(400, 3, 21)\n",
      "(400, 3, 21)\n",
      "(400, 3, 21)\n",
      "(400, 3, 21)\n",
      "(400, 3, 21)\n",
      "(400, 3, 21)\n"
     ]
    }
   ],
   "source": [
    "# giyeok = np.array([landmarks(data['hand_data']) for data in giyeok_data])\n",
    "# nieun = np.array([landmarks(data['hand_data']) for data in nieun_data])\n",
    "# digeut = np.array([landmarks(data['hand_data']) for data in digeut_data])\n",
    "# rieul = np.array([landmarks(data['hand_data']) for data in rieul_data])\n",
    "# mieum = np.array([landmarks(data['hand_data']) for data in mieum_data])\n",
    "# bieup = np.array([landmarks(data['hand_data']) for data in bieup_data])\n",
    "# siot = np.array([landmarks(data['hand_data']) for data in siot_data])\n",
    "# ieung = np.array([landmarks(data['hand_data']) for data in ieung_data])\n",
    "# jieut = np.array([landmarks(data['hand_data']) for data in jieut_data])\n",
    "# chieut = np.array([landmarks(data['hand_data']) for data in chieut_data])\n",
    "# kieuk = np.array([landmarks(data['hand_data']) for data in kieuk_data])\n",
    "# tieut = np.array([landmarks(data['hand_data']) for data in tieut_data])\n",
    "# pieup = np.array([landmarks(data['hand_data']) for data in pieup_data])\n",
    "# hieut = np.array([landmarks(data['hand_data']) for data in hieut_data])\n",
    "\n",
    "\n",
    "a = np.array([landmarks(data['hand_data']) for data in a_data])\n",
    "ya = np.array([landmarks(data['hand_data']) for data in ya_data])\n",
    "eo = np.array([landmarks(data['hand_data']) for data in eo_data])\n",
    "yeo = np.array([landmarks(data['hand_data']) for data in yeo_data])\n",
    "o = np.array([landmarks(data['hand_data']) for data in o_data])\n",
    "yo = np.array([landmarks(data['hand_data']) for data in yo_data])\n",
    "u = np.array([landmarks(data['hand_data']) for data in u_data])\n",
    "yu = np.array([landmarks(data['hand_data']) for data in yu_data])\n",
    "eu = np.array([landmarks(data['hand_data']) for data in eu_data])\n",
    "i = np.array([landmarks(data['hand_data']) for data in i_data])\n",
    "e = np.array([landmarks(data['hand_data']) for data in e_data])\n",
    "ye = np.array([landmarks(data['hand_data']) for data in ye_data])\n",
    "ae = np.array([landmarks(data['hand_data']) for data in ae_data])\n",
    "yae = np.array([landmarks(data['hand_data']) for data in yae_data])\n",
    "ui = np.array([landmarks(data['hand_data']) for data in ui_data])\n",
    "oe = np.array([landmarks(data['hand_data']) for data in oe_data])\n",
    "wi = np.array([landmarks(data['hand_data']) for data in wi_data])\n",
    "\n",
    "\n",
    "\n",
    "# print(giyeok.shape)\n",
    "# print(nieun.shape)\n",
    "# print(digeut.shape)\n",
    "# print(rieul.shape)\n",
    "# print(mieum.shape)\n",
    "# print(bieup.shape)\n",
    "# print(siot.shape)\n",
    "# print(ieung.shape)\n",
    "# print(jieut.shape)\n",
    "# print(chieut.shape)\n",
    "# print(kieuk.shape)\n",
    "# print(tieut.shape)\n",
    "# print(pieup.shape)\n",
    "# print(hieut.shape)\n",
    "\n",
    "\n",
    "print(a.shape)\n",
    "print(ya.shape)\n",
    "print(eo.shape)\n",
    "print(yeo.shape)\n",
    "print(o.shape)\n",
    "print(yo.shape)\n",
    "print(u.shape)\n",
    "print(yu.shape)\n",
    "print(eu.shape)\n",
    "print(i.shape)\n",
    "print(e.shape)\n",
    "print(ye.shape)\n",
    "print(ae.shape)\n",
    "print(yae.shape)\n",
    "print(ui.shape)\n",
    "print(oe.shape)\n",
    "print(wi.shape)\n"
   ]
  },
  {
   "cell_type": "code",
   "execution_count": null,
   "metadata": {},
   "outputs": [],
   "source": []
  },
  {
   "cell_type": "code",
   "execution_count": 8,
   "metadata": {},
   "outputs": [
    {
     "name": "stdout",
     "output_type": "stream",
     "text": [
      "torch.Size([6800, 17])\n"
     ]
    }
   ],
   "source": [
    "# y_giyeok = [[1000,0,0,0,0,0,0,0,0,0,0,0,0,0]] * giyeok.shape[0]\n",
    "# y_nieun = [[0,1000,0,0,0,0,0,0,0,0,0,0,0,0]] * nieun.shape[0]\n",
    "# y_digeut = [[0,0,1000,0,0,0,0,0,0,0,0,0,0,0]] * digeut.shape[0]\n",
    "# y_rieul = [[0,0,0,1000,0,0,0,0,0,0,0,0,0,0]] * rieul.shape[0]\n",
    "# y_mieum = [[0,0,0,0,1000,0,0,0,0,0,0,0,0,0]] * mieum.shape[0]\n",
    "# y_bieup = [[0,0,0,0,0,1000,0,0,0,0,0,0,0,0]] * bieup.shape[0]\n",
    "# y_siot = [[0,0,0,0,0,0,1000,0,0,0,0,0,0,0]] * siot.shape[0]\n",
    "# y_ieung = [[0,0,0,0,0,0,0,1000,0,0,0,0,0,0]] * ieung.shape[0]\n",
    "# y_jieut = [[0,0,0,0,0,0,0,0,1000,0,0,0,0,0]] * jieut.shape[0]\n",
    "# y_chieut = [[0,0,0,0,0,0,0,0,0,1000,0,0,0,0]] * chieut.shape[0]\n",
    "# y_kieuk = [[0,0,0,0,0,0,0,0,0,0,1000,0,0,0]] * kieuk.shape[0]\n",
    "# y_tieut = [[0,0,0,0,0,0,0,0,0,0,0,1000,0,0]] * tieut.shape[0]\n",
    "# y_pieup = [[0,0,0,0,0,0,0,0,0,0,0,0,1000,0]] * pieup.shape[0]\n",
    "# y_hieut = [[0,0,0,0,0,0,0,0,0,0,0,0,0,1000]] * hieut.shape[0]\n",
    "\n",
    "# y_list = y_giyeok + y_nieun + y_digeut + y_rieul + y_mieum + y_bieup + y_siot + y_ieung + y_jieut + y_chieut + y_kieuk + y_tieut + y_pieup + y_hieut\n",
    "# Y = torch.tensor(y_list, dtype=torch.float32)\n",
    "# print(Y.shape)\n",
    "\n",
    "\n",
    "y_a = [[1000,0,0,0,0,0,0,0,0,0,0,0,0,0,0,0,0]] * a.shape[0]\n",
    "y_ya = [[0,1000,0,0,0,0,0,0,0,0,0,0,0,0,0,0,0]] * ya.shape[0]\n",
    "y_eo = [[0,0,1000,0,0,0,0,0,0,0,0,0,0,0,0,0,0]] * eo.shape[0]\n",
    "y_yeo = [[0,0,0,1000,0,0,0,0,0,0,0,0,0,0,0,0,0]] * yeo.shape[0]\n",
    "y_o = [[0,0,0,0,1000,0,0,0,0,0,0,0,0,0,0,0,0]] * o.shape[0]\n",
    "y_yo = [[0,0,0,0,0,1000,0,0,0,0,0,0,0,0,0,0,0]] * yo.shape[0]\n",
    "y_u = [[0,0,0,0,0,0,1000,0,0,0,0,0,0,0,0,0,0]] * u.shape[0]\n",
    "y_yu = [[0,0,0,0,0,0,0,1000,0,0,0,0,0,0,0,0,0]] * yu.shape[0]\n",
    "y_eu = [[0,0,0,0,0,0,0,0,1000,0,0,0,0,0,0,0,0]] * eu.shape[0]\n",
    "y_i = [[0,0,0,0,0,0,0,0,0,1000,0,0,0,0,0,0,0]] * i.shape[0]\n",
    "y_e = [[0,0,0,0,0,0,0,0,0,0,1000,0,0,0,0,0,0]] * e.shape[0]\n",
    "y_ye = [[0,0,0,0,0,0,0,0,0,0,0,1000,0,0,0,0,0]] * ye.shape[0]\n",
    "y_ae = [[0,0,0,0,0,0,0,0,0,0,0,0,1000,0,0,0,0]] * ae.shape[0]\n",
    "y_yae = [[0,0,0,0,0,0,0,0,0,0,0,0,0,1000,0,0,0]] * yae.shape[0]\n",
    "y_ui = [[0,0,0,0,0,0,0,0,0,0,0,0,0,0,1000,0,0]] * ui.shape[0]\n",
    "y_oe = [[0,0,0,0,0,0,0,0,0,0,0,0,0,0,0,1000,0]] * oe.shape[0]\n",
    "y_wi = [[0,0,0,0,0,0,0,0,0,0,0,0,0,0,0,0,1000]] * wi.shape[0]\n",
    "\n",
    "y_list = y_a + y_ya + y_eo + y_yeo + y_o + y_yo + y_u + y_yu + y_eu + y_i + y_e + y_ye + y_ae + y_yae + y_ui + y_oe + y_wi\n",
    "Y = torch.tensor(y_list, dtype=torch.float32)\n",
    "print(Y.shape)"
   ]
  },
  {
   "cell_type": "code",
   "execution_count": 9,
   "metadata": {},
   "outputs": [
    {
     "name": "stdout",
     "output_type": "stream",
     "text": [
      "torch.Size([6800, 3, 21])\n"
     ]
    }
   ],
   "source": [
    "# X_np = np.concatenate((giyeok, nieun, digeut, rieul, mieum, bieup, siot, ieung, jieut, chieut, kieuk, tieut, pieup, hieut), axis=0)\n",
    "# X = torch.tensor(X_np, dtype=torch.float32)\n",
    "# print(X.shape)\n",
    "\n",
    "\n",
    "X_np = np.concatenate((a, ya, eo, yeo, o, yo, u, yu, eu, i, e, ye, ae, yae, ui, oe, wi), axis=0)\n",
    "X = torch.tensor(X_np, dtype=torch.float32)\n",
    "print(X.shape)"
   ]
  },
  {
   "cell_type": "code",
   "execution_count": 10,
   "metadata": {},
   "outputs": [],
   "source": [
    "from sklearn.model_selection import train_test_split\n",
    "\n",
    "\n",
    "X_train, X_test, y_train, y_test = train_test_split(X, Y, test_size=0.1,random_state=30)"
   ]
  },
  {
   "cell_type": "code",
   "execution_count": 11,
   "metadata": {},
   "outputs": [
    {
     "data": {
      "text/plain": [
       "device(type='cuda', index=0)"
      ]
     },
     "execution_count": 11,
     "metadata": {},
     "output_type": "execute_result"
    }
   ],
   "source": [
    "device = torch.device(\"cuda:0\" if torch.cuda.is_available() else \"cpu\")\n",
    "device"
   ]
  },
  {
   "cell_type": "code",
   "execution_count": 12,
   "metadata": {},
   "outputs": [],
   "source": [
    "from torch.utils.data import TensorDataset, DataLoader\n",
    "def get_data(train_ds, valid_ds, bs):\n",
    "    return (\n",
    "        DataLoader(train_ds, batch_size=bs, shuffle=True),\n",
    "        DataLoader(valid_ds, batch_size=bs),\n",
    "    )\n",
    "\n",
    "\n",
    "def preprocess(x, y):    \n",
    "    return x.to(device, dtype=torch.float), y.to(device, dtype=torch.long)\n",
    "\n",
    "\n",
    "class WrappedDataLoader:\n",
    "    def __init__(self, dl, func):\n",
    "        self.dl = dl\n",
    "        self.func = func\n",
    "\n",
    "    def __len__(self):\n",
    "        return len(self.dl)\n",
    "\n",
    "    def __iter__(self):\n",
    "        batches = iter(self.dl)\n",
    "        for b in batches:\n",
    "            yield (self.func(*b))"
   ]
  },
  {
   "cell_type": "code",
   "execution_count": 13,
   "metadata": {},
   "outputs": [],
   "source": [
    "train_ds = TensorDataset(X_train,y_train)\n",
    "test_ds = TensorDataset(X_test,y_test) "
   ]
  },
  {
   "cell_type": "code",
   "execution_count": 14,
   "metadata": {},
   "outputs": [],
   "source": [
    "batch_size=32\n",
    "train_dl, valid_dl = get_data(train_ds, test_ds, batch_size)\n",
    "train_dl = WrappedDataLoader(train_dl, preprocess)\n",
    "valid_dl = WrappedDataLoader(valid_dl, preprocess)"
   ]
  },
  {
   "cell_type": "code",
   "execution_count": 15,
   "metadata": {},
   "outputs": [
    {
     "name": "stdout",
     "output_type": "stream",
     "text": [
      "torch.Size([32, 3, 21])\n",
      "torch.Size([32, 17])\n"
     ]
    }
   ],
   "source": [
    "x,y = next(iter(train_dl))\n",
    "print(x.shape)\n",
    "print(y.shape)"
   ]
  },
  {
   "cell_type": "code",
   "execution_count": 17,
   "metadata": {},
   "outputs": [],
   "source": [
    "import torch.nn as nn\n",
    "import torch.nn.functional as F\n",
    "\n",
    "class gesture_fc_type(nn.Module):\n",
    "    def __init__(self):\n",
    "        super(gesture_fc_type, self).__init__()\n",
    "\n",
    "        self.fc1 = nn.Linear(3*21, 500)\n",
    "        self.fc2 = nn.Linear(500,128)\n",
    "        self.fc3 = nn.Linear(128, 17)\n",
    "\n",
    "\n",
    "    def forward(self, x):\n",
    "        x = x.view(-1, 3*21)\n",
    "        x = F.relu(self.fc1(x))\n",
    "        x = F.relu(self.fc2(x))\n",
    "        x = self.fc3(x)\n",
    "    \n",
    "        return x"
   ]
  },
  {
   "cell_type": "code",
   "execution_count": 18,
   "metadata": {},
   "outputs": [],
   "source": [
    "from torch.optim.lr_scheduler import ExponentialLR\n",
    "\n",
    "Model = gesture_fc_type().to(device)\n",
    "# loss_fn = torch.nn.CrossEntropyLoss()\n",
    "loss_fn = torch.nn.MSELoss()\n",
    "optimizer = torch.optim.Adam(Model.parameters(),lr = 0.02)\n",
    "scheduler = ExponentialLR(optimizer, gamma=0.93)"
   ]
  },
  {
   "cell_type": "code",
   "execution_count": 19,
   "metadata": {},
   "outputs": [],
   "source": [
    "from torchmetrics.classification import MulticlassAccuracy\n",
    "from torchmetrics.classification import MulticlassConfusionMatrix"
   ]
  },
  {
   "cell_type": "code",
   "execution_count": 20,
   "metadata": {},
   "outputs": [],
   "source": [
    "def test_terrain(x,y,model,loss_fn,accuracy_metric,confusion_metric):\n",
    "    with torch.no_grad():\n",
    "        model.eval()\n",
    "        pred = model(x)\n",
    "        loss = loss_fn(pred,y).sum()\n",
    "        accuracy = accuracy_metric(torch.argmax( pred.to(torch.float32),dim=1) , torch.argmax(y.to(torch.float32),dim=1))\n",
    "        confusion_matrix_line = confusion_metric(torch.argmax( pred.to(torch.float32),dim=1) , torch.argmax(y.to(torch.float32),dim=1)).detach().cpu().numpy()\n",
    "        model.train()\n",
    "    return loss,accuracy,confusion_matrix_line\n",
    "\n",
    "\n",
    "\n",
    "def train_terrain(train_dl,test_dl,model,loss_fn,epoch,optimizer,device):\n",
    "    \n",
    "    accuracy_metric = MulticlassAccuracy(num_classes=17).to(device)\n",
    "    confusion_metric = MulticlassConfusionMatrix(num_classes=17).to(device)\n",
    "    losses_batches = []\n",
    "    testlosses_batches = []\n",
    "    accuracy_batches=[]\n",
    "    testaccuracy_batches=[]\n",
    "\n",
    "    average_train = []\n",
    "    average_test = []\n",
    "    average_accuracy_train=[]\n",
    "    average_accuracy_test=[]\n",
    "    confusion_matrix=[]\n",
    "    confusion_matrix_test=[]\n",
    "\n",
    "    evtr = 0\n",
    "    for i in range(epoch):\n",
    "        \n",
    "        accuracies = []\n",
    "        test_accuracies = []\n",
    "\n",
    "        loss_s = []\n",
    "        test_losses = []\n",
    "        model.train()\n",
    "\n",
    "        for data in tqdm.tqdm(train_dl):\n",
    "            x,y = data\n",
    "            x = x.to(device,torch.float32)\n",
    "            y = y.to(device)\n",
    "            optimizer.zero_grad()\n",
    "            pred = model(x)\n",
    "            pred = pred.squeeze()\n",
    "            \n",
    "            loss = loss_fn(pred.to(torch.float32),y.to(torch.float32))\n",
    "            loss.backward()\n",
    "            optimizer.step()\n",
    "\n",
    "\n",
    "            # print(pred.shape)\n",
    "            # print(y.shape)\n",
    "\n",
    "            # print(torch.argmax( pred.to(torch.float32),dim=1).shape)\n",
    "            # print(torch.argmax(y.to(torch.float32),dim=1).shape)\n",
    "            accuracy = accuracy_metric(torch.argmax( pred.to(torch.float32),dim=1) , torch.argmax(y.to(torch.float32),dim=1) )\n",
    "            confusion_matrix_line = confusion_metric(torch.argmax( pred.to(torch.float32),dim=1) , torch.argmax(y.to(torch.float32),dim=1)).detach().cpu().numpy()\n",
    "\n",
    "            # print(accuracy)\n",
    "            accuracies.append(accuracy)\n",
    "            accuracy_batches.append(accuracy)\n",
    "            confusion_matrix.append(confusion_matrix_line)\n",
    "            loss_s.append(loss)\n",
    "            losses_batches.append(loss)\n",
    "        \n",
    "        for test_x,test_y in test_dl:\n",
    "            test_x = test_x.to(device,torch.float32)\n",
    "            test_y = test_y.to(device,torch.float32)\n",
    "            test_loss , test_accuracy,test_confusion_line = test_terrain(test_x,test_y,model,loss_fn,accuracy_metric, confusion_metric)\n",
    "            test_losses.append(test_loss)\n",
    "            testlosses_batches.append(test_loss)\n",
    "            test_accuracies.append(test_accuracy)\n",
    "            testaccuracy_batches.append(test_accuracy)\n",
    "            confusion_matrix_test.append(test_confusion_line)\n",
    "\n",
    "        scheduler.step()\n",
    "        evtr = sum(loss_s)/len(loss_s)\n",
    "        evte = sum(test_losses)/len(test_losses)\n",
    "        evactr = sum(accuracies)/len(accuracies)\n",
    "        evacte = sum(test_accuracies)/len(test_accuracies)\n",
    "        average_train.append(evtr)\n",
    "        average_test.append(evte)\n",
    "        average_accuracy_train.append(evactr)\n",
    "        average_accuracy_test.append(evacte)\n",
    "\n",
    "            \n",
    "        print('------------------------------------------------')\n",
    "        print('Train Loss = {:.5f}'.format(average_train[-1]))\n",
    "        print('Train Accuracy = {:.5f}'.format(average_accuracy_train[-1]))\n",
    "\n",
    "        print('Test loss = {:.5f}'.format(average_test[-1]))\n",
    "        print('Test Accuracy = {:.5f}'.format(average_accuracy_test[-1]))\n",
    "        print('learning_Rate: ',optimizer.param_groups[0]['lr'])\n",
    "        print(\"epoch :      \",i)\n",
    "        print('------------------------------------------------')\n",
    "    confusion_matrix = torch.Tensor(confusion_matrix)\n",
    "    confusion_matrix_test = torch.Tensor(confusion_matrix_test)\n",
    "    \n",
    "    return (average_train,average_test, losses_batches, testlosses_batches) , \\\n",
    "        (average_accuracy_train , average_accuracy_test , accuracy_batches , testaccuracy_batches, confusion_matrix, confusion_matrix_test)"
   ]
  },
  {
   "cell_type": "code",
   "execution_count": 21,
   "metadata": {},
   "outputs": [
    {
     "name": "stderr",
     "output_type": "stream",
     "text": [
      "100%|██████████| 192/192 [00:05<00:00, 35.12it/s]\n"
     ]
    },
    {
     "name": "stdout",
     "output_type": "stream",
     "text": [
      "------------------------------------------------\n",
      "Train Loss = 17601.91016\n",
      "Train Accuracy = 0.80453\n",
      "Test loss = 1014.01520\n",
      "Test Accuracy = 1.00000\n",
      "learning_Rate:  0.018600000000000002\n",
      "epoch :       0\n",
      "------------------------------------------------\n"
     ]
    },
    {
     "name": "stderr",
     "output_type": "stream",
     "text": [
      "100%|██████████| 192/192 [00:00<00:00, 860.21it/s]\n"
     ]
    },
    {
     "name": "stdout",
     "output_type": "stream",
     "text": [
      "------------------------------------------------\n",
      "Train Loss = 778.48572\n",
      "Train Accuracy = 0.99879\n",
      "Test loss = 437.40625\n",
      "Test Accuracy = 1.00000\n",
      "learning_Rate:  0.017298000000000004\n",
      "epoch :       1\n",
      "------------------------------------------------\n"
     ]
    },
    {
     "name": "stderr",
     "output_type": "stream",
     "text": [
      "100%|██████████| 192/192 [00:00<00:00, 884.66it/s]\n"
     ]
    },
    {
     "name": "stdout",
     "output_type": "stream",
     "text": [
      "------------------------------------------------\n",
      "Train Loss = 437.43808\n",
      "Train Accuracy = 0.99871\n",
      "Test loss = 314.47287\n",
      "Test Accuracy = 1.00000\n",
      "learning_Rate:  0.016087140000000003\n",
      "epoch :       2\n",
      "------------------------------------------------\n"
     ]
    },
    {
     "name": "stderr",
     "output_type": "stream",
     "text": [
      "100%|██████████| 192/192 [00:00<00:00, 886.15it/s]\n"
     ]
    },
    {
     "name": "stdout",
     "output_type": "stream",
     "text": [
      "------------------------------------------------\n",
      "Train Loss = 325.61664\n",
      "Train Accuracy = 0.99898\n",
      "Test loss = 304.77847\n",
      "Test Accuracy = 1.00000\n",
      "learning_Rate:  0.014961040200000005\n",
      "epoch :       3\n",
      "------------------------------------------------\n"
     ]
    },
    {
     "name": "stderr",
     "output_type": "stream",
     "text": [
      "100%|██████████| 192/192 [00:00<00:00, 867.16it/s]\n"
     ]
    },
    {
     "name": "stdout",
     "output_type": "stream",
     "text": [
      "------------------------------------------------\n",
      "Train Loss = 262.30951\n",
      "Train Accuracy = 0.99868\n",
      "Test loss = 219.37341\n",
      "Test Accuracy = 1.00000\n",
      "learning_Rate:  0.013913767386000005\n",
      "epoch :       4\n",
      "------------------------------------------------\n"
     ]
    },
    {
     "name": "stderr",
     "output_type": "stream",
     "text": [
      "100%|██████████| 192/192 [00:00<00:00, 878.69it/s]\n"
     ]
    },
    {
     "name": "stdout",
     "output_type": "stream",
     "text": [
      "------------------------------------------------\n",
      "Train Loss = 208.65904\n",
      "Train Accuracy = 0.99932\n",
      "Test loss = 235.82382\n",
      "Test Accuracy = 1.00000\n",
      "learning_Rate:  0.012939803668980005\n",
      "epoch :       5\n",
      "------------------------------------------------\n"
     ]
    },
    {
     "name": "stderr",
     "output_type": "stream",
     "text": [
      "100%|██████████| 192/192 [00:00<00:00, 881.80it/s]\n"
     ]
    },
    {
     "name": "stdout",
     "output_type": "stream",
     "text": [
      "------------------------------------------------\n",
      "Train Loss = 182.21793\n",
      "Train Accuracy = 0.99985\n",
      "Test loss = 179.00970\n",
      "Test Accuracy = 1.00000\n",
      "learning_Rate:  0.012034017412151404\n",
      "epoch :       6\n",
      "------------------------------------------------\n"
     ]
    },
    {
     "name": "stderr",
     "output_type": "stream",
     "text": [
      "100%|██████████| 192/192 [00:00<00:00, 884.17it/s]\n"
     ]
    },
    {
     "name": "stdout",
     "output_type": "stream",
     "text": [
      "------------------------------------------------\n",
      "Train Loss = 147.80289\n",
      "Train Accuracy = 1.00000\n",
      "Test loss = 122.67501\n",
      "Test Accuracy = 1.00000\n",
      "learning_Rate:  0.011191636193300807\n",
      "epoch :       7\n",
      "------------------------------------------------\n"
     ]
    },
    {
     "name": "stderr",
     "output_type": "stream",
     "text": [
      "100%|██████████| 192/192 [00:00<00:00, 883.33it/s]\n"
     ]
    },
    {
     "name": "stdout",
     "output_type": "stream",
     "text": [
      "------------------------------------------------\n",
      "Train Loss = 118.46747\n",
      "Train Accuracy = 1.00000\n",
      "Test loss = 107.09914\n",
      "Test Accuracy = 1.00000\n",
      "learning_Rate:  0.010408221659769751\n",
      "epoch :       8\n",
      "------------------------------------------------\n"
     ]
    },
    {
     "name": "stderr",
     "output_type": "stream",
     "text": [
      "100%|██████████| 192/192 [00:00<00:00, 845.78it/s]\n"
     ]
    },
    {
     "name": "stdout",
     "output_type": "stream",
     "text": [
      "------------------------------------------------\n",
      "Train Loss = 103.95215\n",
      "Train Accuracy = 1.00000\n",
      "Test loss = 111.13959\n",
      "Test Accuracy = 1.00000\n",
      "learning_Rate:  0.009679646143585869\n",
      "epoch :       9\n",
      "------------------------------------------------\n"
     ]
    },
    {
     "name": "stderr",
     "output_type": "stream",
     "text": [
      "100%|██████████| 192/192 [00:00<00:00, 878.56it/s]\n"
     ]
    },
    {
     "name": "stdout",
     "output_type": "stream",
     "text": [
      "------------------------------------------------\n",
      "Train Loss = 94.18015\n",
      "Train Accuracy = 1.00000\n",
      "Test loss = 118.21938\n",
      "Test Accuracy = 1.00000\n",
      "learning_Rate:  0.009002070913534858\n",
      "epoch :       10\n",
      "------------------------------------------------\n"
     ]
    },
    {
     "name": "stderr",
     "output_type": "stream",
     "text": [
      "100%|██████████| 192/192 [00:00<00:00, 884.63it/s]\n"
     ]
    },
    {
     "name": "stdout",
     "output_type": "stream",
     "text": [
      "------------------------------------------------\n",
      "Train Loss = 81.74713\n",
      "Train Accuracy = 1.00000\n",
      "Test loss = 98.57617\n",
      "Test Accuracy = 1.00000\n",
      "learning_Rate:  0.008371925949587418\n",
      "epoch :       11\n",
      "------------------------------------------------\n"
     ]
    },
    {
     "name": "stderr",
     "output_type": "stream",
     "text": [
      "100%|██████████| 192/192 [00:00<00:00, 889.36it/s]\n"
     ]
    },
    {
     "name": "stdout",
     "output_type": "stream",
     "text": [
      "------------------------------------------------\n",
      "Train Loss = 77.04730\n",
      "Train Accuracy = 1.00000\n",
      "Test loss = 86.34641\n",
      "Test Accuracy = 1.00000\n",
      "learning_Rate:  0.007785891133116299\n",
      "epoch :       12\n",
      "------------------------------------------------\n"
     ]
    },
    {
     "name": "stderr",
     "output_type": "stream",
     "text": [
      "100%|██████████| 192/192 [00:00<00:00, 892.93it/s]\n"
     ]
    },
    {
     "name": "stdout",
     "output_type": "stream",
     "text": [
      "------------------------------------------------\n",
      "Train Loss = 63.59655\n",
      "Train Accuracy = 1.00000\n",
      "Test loss = 87.93706\n",
      "Test Accuracy = 1.00000\n",
      "learning_Rate:  0.0072408787537981585\n",
      "epoch :       13\n",
      "------------------------------------------------\n"
     ]
    },
    {
     "name": "stderr",
     "output_type": "stream",
     "text": [
      "100%|██████████| 192/192 [00:00<00:00, 903.97it/s]\n"
     ]
    },
    {
     "name": "stdout",
     "output_type": "stream",
     "text": [
      "------------------------------------------------\n",
      "Train Loss = 59.41956\n",
      "Train Accuracy = 1.00000\n",
      "Test loss = 65.17979\n",
      "Test Accuracy = 1.00000\n",
      "learning_Rate:  0.006734017241032288\n",
      "epoch :       14\n",
      "------------------------------------------------\n"
     ]
    },
    {
     "name": "stderr",
     "output_type": "stream",
     "text": [
      "100%|██████████| 192/192 [00:00<00:00, 898.03it/s]\n"
     ]
    },
    {
     "name": "stdout",
     "output_type": "stream",
     "text": [
      "------------------------------------------------\n",
      "Train Loss = 50.86132\n",
      "Train Accuracy = 1.00000\n",
      "Test loss = 69.95211\n",
      "Test Accuracy = 1.00000\n",
      "learning_Rate:  0.006262636034160028\n",
      "epoch :       15\n",
      "------------------------------------------------\n"
     ]
    },
    {
     "name": "stderr",
     "output_type": "stream",
     "text": [
      "100%|██████████| 192/192 [00:00<00:00, 825.19it/s]\n"
     ]
    },
    {
     "name": "stdout",
     "output_type": "stream",
     "text": [
      "------------------------------------------------\n",
      "Train Loss = 44.49668\n",
      "Train Accuracy = 1.00000\n",
      "Test loss = 75.13620\n",
      "Test Accuracy = 1.00000\n",
      "learning_Rate:  0.005824251511768827\n",
      "epoch :       16\n",
      "------------------------------------------------\n"
     ]
    },
    {
     "name": "stderr",
     "output_type": "stream",
     "text": [
      "100%|██████████| 192/192 [00:00<00:00, 865.49it/s]\n"
     ]
    },
    {
     "name": "stdout",
     "output_type": "stream",
     "text": [
      "------------------------------------------------\n",
      "Train Loss = 43.15258\n",
      "Train Accuracy = 1.00000\n",
      "Test loss = 60.08079\n",
      "Test Accuracy = 1.00000\n",
      "learning_Rate:  0.005416553905945009\n",
      "epoch :       17\n",
      "------------------------------------------------\n"
     ]
    },
    {
     "name": "stderr",
     "output_type": "stream",
     "text": [
      "100%|██████████| 192/192 [00:00<00:00, 876.72it/s]\n"
     ]
    },
    {
     "name": "stdout",
     "output_type": "stream",
     "text": [
      "------------------------------------------------\n",
      "Train Loss = 39.87207\n",
      "Train Accuracy = 1.00000\n",
      "Test loss = 55.42975\n",
      "Test Accuracy = 1.00000\n",
      "learning_Rate:  0.005037395132528859\n",
      "epoch :       18\n",
      "------------------------------------------------\n"
     ]
    },
    {
     "name": "stderr",
     "output_type": "stream",
     "text": [
      "100%|██████████| 192/192 [00:00<00:00, 883.32it/s]\n"
     ]
    },
    {
     "name": "stdout",
     "output_type": "stream",
     "text": [
      "------------------------------------------------\n",
      "Train Loss = 35.52194\n",
      "Train Accuracy = 1.00000\n",
      "Test loss = 54.88441\n",
      "Test Accuracy = 1.00000\n",
      "learning_Rate:  0.004684777473251839\n",
      "epoch :       19\n",
      "------------------------------------------------\n"
     ]
    },
    {
     "name": "stderr",
     "output_type": "stream",
     "text": [
      "100%|██████████| 192/192 [00:00<00:00, 901.19it/s]\n"
     ]
    },
    {
     "name": "stdout",
     "output_type": "stream",
     "text": [
      "------------------------------------------------\n",
      "Train Loss = 34.89926\n",
      "Train Accuracy = 1.00000\n",
      "Test loss = 57.09730\n",
      "Test Accuracy = 1.00000\n",
      "learning_Rate:  0.00435684305012421\n",
      "epoch :       20\n",
      "------------------------------------------------\n"
     ]
    },
    {
     "name": "stderr",
     "output_type": "stream",
     "text": [
      "100%|██████████| 192/192 [00:00<00:00, 888.28it/s]\n"
     ]
    },
    {
     "name": "stdout",
     "output_type": "stream",
     "text": [
      "------------------------------------------------\n",
      "Train Loss = 30.91962\n",
      "Train Accuracy = 1.00000\n",
      "Test loss = 44.87416\n",
      "Test Accuracy = 1.00000\n",
      "learning_Rate:  0.004051864036615516\n",
      "epoch :       21\n",
      "------------------------------------------------\n"
     ]
    },
    {
     "name": "stderr",
     "output_type": "stream",
     "text": [
      "100%|██████████| 192/192 [00:00<00:00, 876.35it/s]\n"
     ]
    },
    {
     "name": "stdout",
     "output_type": "stream",
     "text": [
      "------------------------------------------------\n",
      "Train Loss = 28.74417\n",
      "Train Accuracy = 1.00000\n",
      "Test loss = 39.62092\n",
      "Test Accuracy = 1.00000\n",
      "learning_Rate:  0.00376823355405243\n",
      "epoch :       22\n",
      "------------------------------------------------\n"
     ]
    },
    {
     "name": "stderr",
     "output_type": "stream",
     "text": [
      "100%|██████████| 192/192 [00:00<00:00, 863.45it/s]\n"
     ]
    },
    {
     "name": "stdout",
     "output_type": "stream",
     "text": [
      "------------------------------------------------\n",
      "Train Loss = 27.40971\n",
      "Train Accuracy = 1.00000\n",
      "Test loss = 39.20306\n",
      "Test Accuracy = 1.00000\n",
      "learning_Rate:  0.00350445720526876\n",
      "epoch :       23\n",
      "------------------------------------------------\n"
     ]
    },
    {
     "name": "stderr",
     "output_type": "stream",
     "text": [
      "100%|██████████| 192/192 [00:00<00:00, 898.33it/s]\n"
     ]
    },
    {
     "name": "stdout",
     "output_type": "stream",
     "text": [
      "------------------------------------------------\n",
      "Train Loss = 25.07571\n",
      "Train Accuracy = 1.00000\n",
      "Test loss = 43.84490\n",
      "Test Accuracy = 1.00000\n",
      "learning_Rate:  0.003259145200899947\n",
      "epoch :       24\n",
      "------------------------------------------------\n"
     ]
    },
    {
     "name": "stderr",
     "output_type": "stream",
     "text": [
      "100%|██████████| 192/192 [00:00<00:00, 885.40it/s]\n"
     ]
    },
    {
     "name": "stdout",
     "output_type": "stream",
     "text": [
      "------------------------------------------------\n",
      "Train Loss = 24.69697\n",
      "Train Accuracy = 1.00000\n",
      "Test loss = 39.99395\n",
      "Test Accuracy = 1.00000\n",
      "learning_Rate:  0.003031005036836951\n",
      "epoch :       25\n",
      "------------------------------------------------\n"
     ]
    },
    {
     "name": "stderr",
     "output_type": "stream",
     "text": [
      "100%|██████████| 192/192 [00:00<00:00, 868.80it/s]\n"
     ]
    },
    {
     "name": "stdout",
     "output_type": "stream",
     "text": [
      "------------------------------------------------\n",
      "Train Loss = 22.55206\n",
      "Train Accuracy = 1.00000\n",
      "Test loss = 35.76740\n",
      "Test Accuracy = 1.00000\n",
      "learning_Rate:  0.0028188346842583645\n",
      "epoch :       26\n",
      "------------------------------------------------\n"
     ]
    },
    {
     "name": "stderr",
     "output_type": "stream",
     "text": [
      "100%|██████████| 192/192 [00:00<00:00, 860.46it/s]\n"
     ]
    },
    {
     "name": "stdout",
     "output_type": "stream",
     "text": [
      "------------------------------------------------\n",
      "Train Loss = 21.35530\n",
      "Train Accuracy = 1.00000\n",
      "Test loss = 34.52582\n",
      "Test Accuracy = 1.00000\n",
      "learning_Rate:  0.0026215162563602793\n",
      "epoch :       27\n",
      "------------------------------------------------\n"
     ]
    },
    {
     "name": "stderr",
     "output_type": "stream",
     "text": [
      "100%|██████████| 192/192 [00:00<00:00, 878.74it/s]\n"
     ]
    },
    {
     "name": "stdout",
     "output_type": "stream",
     "text": [
      "------------------------------------------------\n",
      "Train Loss = 20.56122\n",
      "Train Accuracy = 1.00000\n",
      "Test loss = 36.26011\n",
      "Test Accuracy = 1.00000\n",
      "learning_Rate:  0.00243801011841506\n",
      "epoch :       28\n",
      "------------------------------------------------\n"
     ]
    },
    {
     "name": "stderr",
     "output_type": "stream",
     "text": [
      "100%|██████████| 192/192 [00:00<00:00, 885.01it/s]\n"
     ]
    },
    {
     "name": "stdout",
     "output_type": "stream",
     "text": [
      "------------------------------------------------\n",
      "Train Loss = 19.75949\n",
      "Train Accuracy = 1.00000\n",
      "Test loss = 34.04049\n",
      "Test Accuracy = 1.00000\n",
      "learning_Rate:  0.0022673494101260057\n",
      "epoch :       29\n",
      "------------------------------------------------\n"
     ]
    },
    {
     "name": "stderr",
     "output_type": "stream",
     "text": [
      "100%|██████████| 192/192 [00:00<00:00, 894.30it/s]\n"
     ]
    },
    {
     "name": "stdout",
     "output_type": "stream",
     "text": [
      "------------------------------------------------\n",
      "Train Loss = 18.62268\n",
      "Train Accuracy = 1.00000\n",
      "Test loss = 32.23262\n",
      "Test Accuracy = 1.00000\n",
      "learning_Rate:  0.0021086349514171853\n",
      "epoch :       30\n",
      "------------------------------------------------\n"
     ]
    },
    {
     "name": "stderr",
     "output_type": "stream",
     "text": [
      "100%|██████████| 192/192 [00:00<00:00, 882.88it/s]\n"
     ]
    },
    {
     "name": "stdout",
     "output_type": "stream",
     "text": [
      "------------------------------------------------\n",
      "Train Loss = 17.52235\n",
      "Train Accuracy = 1.00000\n",
      "Test loss = 34.46287\n",
      "Test Accuracy = 1.00000\n",
      "learning_Rate:  0.0019610305048179824\n",
      "epoch :       31\n",
      "------------------------------------------------\n"
     ]
    },
    {
     "name": "stderr",
     "output_type": "stream",
     "text": [
      "100%|██████████| 192/192 [00:00<00:00, 896.23it/s]\n"
     ]
    },
    {
     "name": "stdout",
     "output_type": "stream",
     "text": [
      "------------------------------------------------\n",
      "Train Loss = 16.95855\n",
      "Train Accuracy = 1.00000\n",
      "Test loss = 31.92529\n",
      "Test Accuracy = 1.00000\n",
      "learning_Rate:  0.0018237583694807238\n",
      "epoch :       32\n",
      "------------------------------------------------\n"
     ]
    },
    {
     "name": "stderr",
     "output_type": "stream",
     "text": [
      "100%|██████████| 192/192 [00:00<00:00, 892.68it/s]\n"
     ]
    },
    {
     "name": "stdout",
     "output_type": "stream",
     "text": [
      "------------------------------------------------\n",
      "Train Loss = 16.07775\n",
      "Train Accuracy = 1.00000\n",
      "Test loss = 31.37703\n",
      "Test Accuracy = 1.00000\n",
      "learning_Rate:  0.0016960952836170733\n",
      "epoch :       33\n",
      "------------------------------------------------\n"
     ]
    },
    {
     "name": "stderr",
     "output_type": "stream",
     "text": [
      "100%|██████████| 192/192 [00:00<00:00, 854.72it/s]\n"
     ]
    },
    {
     "name": "stdout",
     "output_type": "stream",
     "text": [
      "------------------------------------------------\n",
      "Train Loss = 15.72189\n",
      "Train Accuracy = 1.00000\n",
      "Test loss = 32.32082\n",
      "Test Accuracy = 1.00000\n",
      "learning_Rate:  0.0015773686137638783\n",
      "epoch :       34\n",
      "------------------------------------------------\n"
     ]
    },
    {
     "name": "stderr",
     "output_type": "stream",
     "text": [
      "100%|██████████| 192/192 [00:00<00:00, 895.32it/s]\n"
     ]
    },
    {
     "name": "stdout",
     "output_type": "stream",
     "text": [
      "------------------------------------------------\n",
      "Train Loss = 15.17412\n",
      "Train Accuracy = 1.00000\n",
      "Test loss = 29.97899\n",
      "Test Accuracy = 1.00000\n",
      "learning_Rate:  0.001466952810800407\n",
      "epoch :       35\n",
      "------------------------------------------------\n"
     ]
    },
    {
     "name": "stderr",
     "output_type": "stream",
     "text": [
      "100%|██████████| 192/192 [00:00<00:00, 887.21it/s]\n"
     ]
    },
    {
     "name": "stdout",
     "output_type": "stream",
     "text": [
      "------------------------------------------------\n",
      "Train Loss = 14.79660\n",
      "Train Accuracy = 1.00000\n",
      "Test loss = 28.16326\n",
      "Test Accuracy = 1.00000\n",
      "learning_Rate:  0.0013642661140443786\n",
      "epoch :       36\n",
      "------------------------------------------------\n"
     ]
    },
    {
     "name": "stderr",
     "output_type": "stream",
     "text": [
      "100%|██████████| 192/192 [00:00<00:00, 868.42it/s]\n"
     ]
    },
    {
     "name": "stdout",
     "output_type": "stream",
     "text": [
      "------------------------------------------------\n",
      "Train Loss = 13.83637\n",
      "Train Accuracy = 1.00000\n",
      "Test loss = 28.84534\n",
      "Test Accuracy = 1.00000\n",
      "learning_Rate:  0.0012687674860612722\n",
      "epoch :       37\n",
      "------------------------------------------------\n"
     ]
    },
    {
     "name": "stderr",
     "output_type": "stream",
     "text": [
      "100%|██████████| 192/192 [00:00<00:00, 869.35it/s]\n"
     ]
    },
    {
     "name": "stdout",
     "output_type": "stream",
     "text": [
      "------------------------------------------------\n",
      "Train Loss = 13.76782\n",
      "Train Accuracy = 1.00000\n",
      "Test loss = 29.20247\n",
      "Test Accuracy = 1.00000\n",
      "learning_Rate:  0.0011799537620369833\n",
      "epoch :       38\n",
      "------------------------------------------------\n"
     ]
    },
    {
     "name": "stderr",
     "output_type": "stream",
     "text": [
      "100%|██████████| 192/192 [00:00<00:00, 873.91it/s]\n"
     ]
    },
    {
     "name": "stdout",
     "output_type": "stream",
     "text": [
      "------------------------------------------------\n",
      "Train Loss = 13.12400\n",
      "Train Accuracy = 1.00000\n",
      "Test loss = 26.50845\n",
      "Test Accuracy = 1.00000\n",
      "learning_Rate:  0.0010973569986943946\n",
      "epoch :       39\n",
      "------------------------------------------------\n"
     ]
    },
    {
     "name": "stderr",
     "output_type": "stream",
     "text": [
      "100%|██████████| 192/192 [00:00<00:00, 868.73it/s]\n"
     ]
    },
    {
     "name": "stdout",
     "output_type": "stream",
     "text": [
      "------------------------------------------------\n",
      "Train Loss = 12.65407\n",
      "Train Accuracy = 1.00000\n",
      "Test loss = 25.71469\n",
      "Test Accuracy = 1.00000\n",
      "learning_Rate:  0.0010205420087857871\n",
      "epoch :       40\n",
      "------------------------------------------------\n"
     ]
    },
    {
     "name": "stderr",
     "output_type": "stream",
     "text": [
      "100%|██████████| 192/192 [00:00<00:00, 670.58it/s]\n"
     ]
    },
    {
     "name": "stdout",
     "output_type": "stream",
     "text": [
      "------------------------------------------------\n",
      "Train Loss = 12.21959\n",
      "Train Accuracy = 1.00000\n",
      "Test loss = 26.87141\n",
      "Test Accuracy = 1.00000\n",
      "learning_Rate:  0.000949104068170782\n",
      "epoch :       41\n",
      "------------------------------------------------\n"
     ]
    },
    {
     "name": "stderr",
     "output_type": "stream",
     "text": [
      "100%|██████████| 192/192 [00:00<00:00, 897.39it/s]\n"
     ]
    },
    {
     "name": "stdout",
     "output_type": "stream",
     "text": [
      "------------------------------------------------\n",
      "Train Loss = 12.01363\n",
      "Train Accuracy = 1.00000\n",
      "Test loss = 24.96346\n",
      "Test Accuracy = 1.00000\n",
      "learning_Rate:  0.0008826667833988273\n",
      "epoch :       42\n",
      "------------------------------------------------\n"
     ]
    },
    {
     "name": "stderr",
     "output_type": "stream",
     "text": [
      "100%|██████████| 192/192 [00:00<00:00, 770.27it/s]\n"
     ]
    },
    {
     "name": "stdout",
     "output_type": "stream",
     "text": [
      "------------------------------------------------\n",
      "Train Loss = 11.63835\n",
      "Train Accuracy = 1.00000\n",
      "Test loss = 25.08028\n",
      "Test Accuracy = 1.00000\n",
      "learning_Rate:  0.0008208801085609095\n",
      "epoch :       43\n",
      "------------------------------------------------\n"
     ]
    },
    {
     "name": "stderr",
     "output_type": "stream",
     "text": [
      "100%|██████████| 192/192 [00:00<00:00, 843.86it/s]\n"
     ]
    },
    {
     "name": "stdout",
     "output_type": "stream",
     "text": [
      "------------------------------------------------\n",
      "Train Loss = 11.44754\n",
      "Train Accuracy = 1.00000\n",
      "Test loss = 24.60494\n",
      "Test Accuracy = 1.00000\n",
      "learning_Rate:  0.0007634185009616458\n",
      "epoch :       44\n",
      "------------------------------------------------\n"
     ]
    },
    {
     "name": "stderr",
     "output_type": "stream",
     "text": [
      "100%|██████████| 192/192 [00:00<00:00, 858.73it/s]\n"
     ]
    },
    {
     "name": "stdout",
     "output_type": "stream",
     "text": [
      "------------------------------------------------\n",
      "Train Loss = 11.17008\n",
      "Train Accuracy = 1.00000\n",
      "Test loss = 24.60522\n",
      "Test Accuracy = 1.00000\n",
      "learning_Rate:  0.0007099792058943307\n",
      "epoch :       45\n",
      "------------------------------------------------\n"
     ]
    },
    {
     "name": "stderr",
     "output_type": "stream",
     "text": [
      "100%|██████████| 192/192 [00:00<00:00, 889.97it/s]\n"
     ]
    },
    {
     "name": "stdout",
     "output_type": "stream",
     "text": [
      "------------------------------------------------\n",
      "Train Loss = 10.88431\n",
      "Train Accuracy = 1.00000\n",
      "Test loss = 24.32478\n",
      "Test Accuracy = 1.00000\n",
      "learning_Rate:  0.0006602806614817275\n",
      "epoch :       46\n",
      "------------------------------------------------\n"
     ]
    },
    {
     "name": "stderr",
     "output_type": "stream",
     "text": [
      "100%|██████████| 192/192 [00:00<00:00, 880.23it/s]\n"
     ]
    },
    {
     "name": "stdout",
     "output_type": "stream",
     "text": [
      "------------------------------------------------\n",
      "Train Loss = 10.55745\n",
      "Train Accuracy = 1.00000\n",
      "Test loss = 24.41077\n",
      "Test Accuracy = 1.00000\n",
      "learning_Rate:  0.0006140610151780066\n",
      "epoch :       47\n",
      "------------------------------------------------\n"
     ]
    },
    {
     "name": "stderr",
     "output_type": "stream",
     "text": [
      "100%|██████████| 192/192 [00:00<00:00, 867.79it/s]\n"
     ]
    },
    {
     "name": "stdout",
     "output_type": "stream",
     "text": [
      "------------------------------------------------\n",
      "Train Loss = 10.45198\n",
      "Train Accuracy = 1.00000\n",
      "Test loss = 23.31398\n",
      "Test Accuracy = 1.00000\n",
      "learning_Rate:  0.0005710767441155462\n",
      "epoch :       48\n",
      "------------------------------------------------\n"
     ]
    },
    {
     "name": "stderr",
     "output_type": "stream",
     "text": [
      "100%|██████████| 192/192 [00:00<00:00, 880.97it/s]\n",
      "/tmp/ipykernel_9765/3397373532.py:97: UserWarning: Creating a tensor from a list of numpy.ndarrays is extremely slow. Please consider converting the list to a single numpy.ndarray with numpy.array() before converting to a tensor. (Triggered internally at /opt/conda/conda-bld/pytorch_1695392020195/work/torch/csrc/utils/tensor_new.cpp:261.)\n",
      "  confusion_matrix = torch.Tensor(confusion_matrix)\n"
     ]
    },
    {
     "name": "stdout",
     "output_type": "stream",
     "text": [
      "------------------------------------------------\n",
      "Train Loss = 10.25852\n",
      "Train Accuracy = 1.00000\n",
      "Test loss = 23.60976\n",
      "Test Accuracy = 1.00000\n",
      "learning_Rate:  0.000531101372027458\n",
      "epoch :       49\n",
      "------------------------------------------------\n"
     ]
    }
   ],
   "source": [
    "epoch = 50\n",
    "losspart,accpart = train_terrain(train_dl , valid_dl ,Model , loss_fn , epoch, optimizer , device)"
   ]
  },
  {
   "cell_type": "code",
   "execution_count": 22,
   "metadata": {},
   "outputs": [],
   "source": [
    "# Save Pt File\n",
    "torch.save(Model.state_dict(), './FC_Model_vowel.pt')"
   ]
  },
  {
   "cell_type": "code",
   "execution_count": null,
   "metadata": {},
   "outputs": [],
   "source": []
  }
 ],
 "metadata": {
  "kernelspec": {
   "display_name": "jh",
   "language": "python",
   "name": "python3"
  },
  "language_info": {
   "codemirror_mode": {
    "name": "ipython",
    "version": 3
   },
   "file_extension": ".py",
   "mimetype": "text/x-python",
   "name": "python",
   "nbconvert_exporter": "python",
   "pygments_lexer": "ipython3",
   "version": "3.8.18"
  }
 },
 "nbformat": 4,
 "nbformat_minor": 2
}

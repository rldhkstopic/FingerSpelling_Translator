{
 "cells": [
  {
   "cell_type": "code",
   "execution_count": 57,
   "metadata": {},
   "outputs": [],
   "source": [
    "# for json file Load\n",
    "import json\n",
    "import numpy as np\n",
    "import matplotlib.pyplot as plt\n",
    "import torch\n",
    "import tqdm"
   ]
  },
  {
   "cell_type": "code",
   "execution_count": 28,
   "metadata": {},
   "outputs": [],
   "source": [
    "\n",
    "Target = [ \n",
    "            {'key' : 'ㄱ', 'eng' : 'giyeok', 'label' : 0}, \n",
    "            {'key' : 'ㄴ', 'eng' : 'nieun', 'label' : 1}, \n",
    "            {'key' : 'ㄷ', 'eng' : 'digeut', 'label' : 2}, \n",
    "            {'key' : 'ㄹ', 'eng' : 'rieul', 'label' : 3}, \n",
    "            {'key' : 'ㅁ', 'eng' : 'mieum', 'label' : 4}, \n",
    "            {'key' : 'ㅂ', 'eng' : 'bieup', 'label' : 5}, \n",
    "            {'key' : 'ㅅ', 'eng' : 'siot', 'label' : 6}, \n",
    "            {'key' : 'ㅇ', 'eng' : 'ieung', 'label' : 7}, \n",
    "            {'key' : 'ㅈ', 'eng' : 'jieut', 'label' : 8}, \n",
    "            {'key' : 'ㅊ', 'eng' : 'chieut', 'label' : 9}, \n",
    "            {'key' : 'ㅋ', 'eng' : 'kieuk', 'label' : 10}, \n",
    "            {'key' : 'ㅌ', 'eng' : 'tieut', 'label' : 11}, \n",
    "            {'key' : 'ㅍ', 'eng' : 'pieup', 'label' : 12}, \n",
    "            {'key' : 'ㅎ', 'eng' : 'hieut', 'label' : 13}, \n",
    "        ]\n",
    "\n"
   ]
  },
  {
   "cell_type": "code",
   "execution_count": 29,
   "metadata": {},
   "outputs": [],
   "source": [
    "giyeok_data = json.load(open('./dataset/1_giyeok_hand_landmarks.json'))\n",
    "nieun_data = json.load(open('./dataset/2_nieun_hand_landmarks.json'))\n",
    "digeut_data = json.load(open('./dataset/3_digeut_hand_landmarks.json'))\n",
    "rieul_data = json.load(open('./dataset/4_rieul_hand_landmarks.json'))\n",
    "mieum_data = json.load(open('./dataset/5_mieum_hand_landmarks.json'))\n",
    "bieup_data = json.load(open('./dataset/6_bieup_hand_landmarks.json'))\n",
    "siot_data = json.load(open('./dataset/7_siot_hand_landmarks.json'))\n",
    "ieung_data = json.load(open('./dataset/8_ieung_hand_landmarks.json'))\n",
    "jieut_data = json.load(open('./dataset/9_jieut_hand_landmarks.json'))\n",
    "chieut_data = json.load(open('./dataset/10_chieut_hand_landmarks.json'))\n",
    "kieuk_data = json.load(open('./dataset/11_kieuk_hand_landmarks.json'))\n",
    "tieut_data = json.load(open('./dataset/12_tieut_hand_landmarks.json'))\n",
    "pieup_data = json.load(open('./dataset/13_pieup_hand_landmarks.json'))\n",
    "hieut_data = json.load(open('./dataset/14_hieut_hand_landmarks.json'))"
   ]
  },
  {
   "cell_type": "code",
   "execution_count": 30,
   "metadata": {},
   "outputs": [],
   "source": [
    "def landmarks(data):\n",
    "    return np.array([[landmark['x'], landmark['y'], landmark['z']] for landmark in data]).transpose()\n"
   ]
  },
  {
   "cell_type": "code",
   "execution_count": 33,
   "metadata": {},
   "outputs": [
    {
     "name": "stdout",
     "output_type": "stream",
     "text": [
      "(400, 3, 21)\n",
      "(400, 3, 21)\n",
      "(400, 3, 21)\n",
      "(400, 3, 21)\n",
      "(400, 3, 21)\n",
      "(400, 3, 21)\n",
      "(400, 3, 21)\n",
      "(400, 3, 21)\n",
      "(400, 3, 21)\n",
      "(400, 3, 21)\n",
      "(400, 3, 21)\n",
      "(400, 3, 21)\n",
      "(400, 3, 21)\n",
      "(400, 3, 21)\n"
     ]
    }
   ],
   "source": [
    "giyeok = np.array([landmarks(data['hand_data']) for data in giyeok_data])\n",
    "nieun = np.array([landmarks(data['hand_data']) for data in nieun_data])\n",
    "digeut = np.array([landmarks(data['hand_data']) for data in digeut_data])\n",
    "rieul = np.array([landmarks(data['hand_data']) for data in rieul_data])\n",
    "mieum = np.array([landmarks(data['hand_data']) for data in mieum_data])\n",
    "bieup = np.array([landmarks(data['hand_data']) for data in bieup_data])\n",
    "siot = np.array([landmarks(data['hand_data']) for data in siot_data])\n",
    "ieung = np.array([landmarks(data['hand_data']) for data in ieung_data])\n",
    "jieut = np.array([landmarks(data['hand_data']) for data in jieut_data])\n",
    "chieut = np.array([landmarks(data['hand_data']) for data in chieut_data])\n",
    "kieuk = np.array([landmarks(data['hand_data']) for data in kieuk_data])\n",
    "tieut = np.array([landmarks(data['hand_data']) for data in tieut_data])\n",
    "pieup = np.array([landmarks(data['hand_data']) for data in pieup_data])\n",
    "hieut = np.array([landmarks(data['hand_data']) for data in hieut_data])\n",
    "\n",
    "\n",
    "print(giyeok.shape)\n",
    "print(nieun.shape)\n",
    "print(digeut.shape)\n",
    "print(rieul.shape)\n",
    "print(mieum.shape)\n",
    "print(bieup.shape)\n",
    "print(siot.shape)\n",
    "print(ieung.shape)\n",
    "print(jieut.shape)\n",
    "print(chieut.shape)\n",
    "print(kieuk.shape)\n",
    "print(tieut.shape)\n",
    "print(pieup.shape)\n",
    "print(hieut.shape)"
   ]
  },
  {
   "cell_type": "code",
   "execution_count": 35,
   "metadata": {},
   "outputs": [
    {
     "name": "stdout",
     "output_type": "stream",
     "text": [
      "torch.Size([5600, 14])\n"
     ]
    }
   ],
   "source": [
    "y_giyeok = [[1000,0,0,0,0,0,0,0,0,0,0,0,0,0]] * giyeok.shape[0]\n",
    "y_nieun = [[0,1000,0,0,0,0,0,0,0,0,0,0,0,0]] * nieun.shape[0]\n",
    "y_digeut = [[0,0,1000,0,0,0,0,0,0,0,0,0,0,0]] * digeut.shape[0]\n",
    "y_rieul = [[0,0,0,1000,0,0,0,0,0,0,0,0,0,0]] * rieul.shape[0]\n",
    "y_mieum = [[0,0,0,0,1000,0,0,0,0,0,0,0,0,0]] * mieum.shape[0]\n",
    "y_bieup = [[0,0,0,0,0,1000,0,0,0,0,0,0,0,0]] * bieup.shape[0]\n",
    "y_siot = [[0,0,0,0,0,0,1000,0,0,0,0,0,0,0]] * siot.shape[0]\n",
    "y_ieung = [[0,0,0,0,0,0,0,1000,0,0,0,0,0,0]] * ieung.shape[0]\n",
    "y_jieut = [[0,0,0,0,0,0,0,0,1000,0,0,0,0,0]] * jieut.shape[0]\n",
    "y_chieut = [[0,0,0,0,0,0,0,0,0,1000,0,0,0,0]] * chieut.shape[0]\n",
    "y_kieuk = [[0,0,0,0,0,0,0,0,0,0,1000,0,0,0]] * kieuk.shape[0]\n",
    "y_tieut = [[0,0,0,0,0,0,0,0,0,0,0,1000,0,0]] * tieut.shape[0]\n",
    "y_pieup = [[0,0,0,0,0,0,0,0,0,0,0,0,1000,0]] * pieup.shape[0]\n",
    "y_hieut = [[0,0,0,0,0,0,0,0,0,0,0,0,0,1000]] * hieut.shape[0]\n",
    "\n",
    "y_list = y_giyeok + y_nieun + y_digeut + y_rieul + y_mieum + y_bieup + y_siot + y_ieung + y_jieut + y_chieut + y_kieuk + y_tieut + y_pieup + y_hieut\n",
    "Y = torch.tensor(y_list, dtype=torch.float32)\n",
    "print(Y.shape)"
   ]
  },
  {
   "cell_type": "code",
   "execution_count": 48,
   "metadata": {},
   "outputs": [
    {
     "name": "stdout",
     "output_type": "stream",
     "text": [
      "torch.Size([5600, 3, 21])\n"
     ]
    }
   ],
   "source": [
    "X_np = np.concatenate((giyeok, nieun, digeut, rieul, mieum, bieup, siot, ieung, jieut, chieut, kieuk, tieut, pieup, hieut), axis=0)\n",
    "X = torch.tensor(X_np, dtype=torch.float32)\n",
    "print(X.shape)"
   ]
  },
  {
   "cell_type": "code",
   "execution_count": 49,
   "metadata": {},
   "outputs": [],
   "source": [
    "from sklearn.model_selection import train_test_split\n",
    "\n",
    "\n",
    "X_train, X_test, y_train, y_test = train_test_split(X, Y, test_size=0.1,random_state=30)"
   ]
  },
  {
   "cell_type": "code",
   "execution_count": 50,
   "metadata": {},
   "outputs": [
    {
     "data": {
      "text/plain": [
       "device(type='cuda', index=0)"
      ]
     },
     "execution_count": 50,
     "metadata": {},
     "output_type": "execute_result"
    }
   ],
   "source": [
    "device = torch.device(\"cuda:0\" if torch.cuda.is_available() else \"cpu\")\n",
    "device"
   ]
  },
  {
   "cell_type": "code",
   "execution_count": 51,
   "metadata": {},
   "outputs": [],
   "source": [
    "from torch.utils.data import TensorDataset, DataLoader\n",
    "def get_data(train_ds, valid_ds, bs):\n",
    "    return (\n",
    "        DataLoader(train_ds, batch_size=bs, shuffle=True),\n",
    "        DataLoader(valid_ds, batch_size=bs),\n",
    "    )\n",
    "\n",
    "\n",
    "def preprocess(x, y):    \n",
    "    return x.to(device, dtype=torch.float), y.to(device, dtype=torch.long)\n",
    "\n",
    "\n",
    "class WrappedDataLoader:\n",
    "    def __init__(self, dl, func):\n",
    "        self.dl = dl\n",
    "        self.func = func\n",
    "\n",
    "    def __len__(self):\n",
    "        return len(self.dl)\n",
    "\n",
    "    def __iter__(self):\n",
    "        batches = iter(self.dl)\n",
    "        for b in batches:\n",
    "            yield (self.func(*b))"
   ]
  },
  {
   "cell_type": "code",
   "execution_count": 52,
   "metadata": {},
   "outputs": [],
   "source": [
    "train_ds = TensorDataset(X_train,y_train)\n",
    "test_ds = TensorDataset(X_test,y_test) "
   ]
  },
  {
   "cell_type": "code",
   "execution_count": 53,
   "metadata": {},
   "outputs": [],
   "source": [
    "batch_size=32\n",
    "train_dl, valid_dl = get_data(train_ds, test_ds, batch_size)\n",
    "train_dl = WrappedDataLoader(train_dl, preprocess)\n",
    "valid_dl = WrappedDataLoader(valid_dl, preprocess)"
   ]
  },
  {
   "cell_type": "code",
   "execution_count": 54,
   "metadata": {},
   "outputs": [
    {
     "name": "stdout",
     "output_type": "stream",
     "text": [
      "torch.Size([32, 3, 21])\n",
      "torch.Size([32, 14])\n"
     ]
    }
   ],
   "source": [
    "x,y = next(iter(train_dl))\n",
    "print(x.shape)\n",
    "print(y.shape)"
   ]
  },
  {
   "cell_type": "code",
   "execution_count": 58,
   "metadata": {},
   "outputs": [],
   "source": [
    "import torch.nn as nn\n",
    "import torch.nn.functional as F\n",
    "\n",
    "class gesture_fc_type(nn.Module):\n",
    "    def __init__(self):\n",
    "        super(gesture_fc_type, self).__init__()\n",
    "\n",
    "        self.fc1 = nn.Linear(3*21, 500)\n",
    "        self.fc2 = nn.Linear(500,128)\n",
    "        self.fc3 = nn.Linear(128, 14)\n",
    "\n",
    "\n",
    "    def forward(self, x):\n",
    "        x = x.view(-1, 3*21)\n",
    "        x = F.relu(self.fc1(x))\n",
    "        x = F.relu(self.fc2(x))\n",
    "        x = self.fc3(x)\n",
    "    \n",
    "        return x"
   ]
  },
  {
   "cell_type": "code",
   "execution_count": 59,
   "metadata": {},
   "outputs": [],
   "source": [
    "from torch.optim.lr_scheduler import ExponentialLR\n",
    "\n",
    "Model = gesture_fc_type().to(device)\n",
    "# loss_fn = torch.nn.CrossEntropyLoss()\n",
    "loss_fn = torch.nn.MSELoss()\n",
    "optimizer = torch.optim.Adam(Model.parameters(),lr = 0.02)\n",
    "scheduler = ExponentialLR(optimizer, gamma=0.93)"
   ]
  },
  {
   "cell_type": "code",
   "execution_count": 63,
   "metadata": {},
   "outputs": [],
   "source": [
    "from torchmetrics.classification import MulticlassAccuracy\n",
    "from torchmetrics.classification import MulticlassConfusionMatrix"
   ]
  },
  {
   "cell_type": "code",
   "execution_count": 66,
   "metadata": {},
   "outputs": [],
   "source": [
    "def test_terrain(x,y,model,loss_fn,accuracy_metric,confusion_metric):\n",
    "    with torch.no_grad():\n",
    "        model.eval()\n",
    "        pred = model(x)\n",
    "        loss = loss_fn(pred,y).sum()\n",
    "        accuracy = accuracy_metric(torch.argmax( pred.to(torch.float32),dim=1) , torch.argmax(y.to(torch.float32),dim=1))\n",
    "        confusion_matrix_line = confusion_metric(torch.argmax( pred.to(torch.float32),dim=1) , torch.argmax(y.to(torch.float32),dim=1)).detach().cpu().numpy()\n",
    "        model.train()\n",
    "    return loss,accuracy,confusion_matrix_line\n",
    "\n",
    "\n",
    "\n",
    "def train_terrain(train_dl,test_dl,model,loss_fn,epoch,optimizer,device):\n",
    "    \n",
    "    accuracy_metric = MulticlassAccuracy(num_classes=14).to(device)\n",
    "    confusion_metric = MulticlassConfusionMatrix(num_classes=14).to(device)\n",
    "    losses_batches = []\n",
    "    testlosses_batches = []\n",
    "    accuracy_batches=[]\n",
    "    testaccuracy_batches=[]\n",
    "\n",
    "    average_train = []\n",
    "    average_test = []\n",
    "    average_accuracy_train=[]\n",
    "    average_accuracy_test=[]\n",
    "    confusion_matrix=[]\n",
    "    confusion_matrix_test=[]\n",
    "\n",
    "    evtr = 0\n",
    "    for i in range(epoch):\n",
    "        \n",
    "        accuracies = []\n",
    "        test_accuracies = []\n",
    "\n",
    "        loss_s = []\n",
    "        test_losses = []\n",
    "        model.train()\n",
    "\n",
    "        for data in tqdm.tqdm(train_dl):\n",
    "            x,y = data\n",
    "            x = x.to(device,torch.float32)\n",
    "            y = y.to(device)\n",
    "            optimizer.zero_grad()\n",
    "            pred = model(x)\n",
    "            pred = pred.squeeze()\n",
    "            \n",
    "            loss = loss_fn(pred.to(torch.float32),y.to(torch.float32))\n",
    "            loss.backward()\n",
    "            optimizer.step()\n",
    "\n",
    "\n",
    "            # print(pred.shape)\n",
    "            # print(y.shape)\n",
    "\n",
    "            # print(torch.argmax( pred.to(torch.float32),dim=1).shape)\n",
    "            # print(torch.argmax(y.to(torch.float32),dim=1).shape)\n",
    "            accuracy = accuracy_metric(torch.argmax( pred.to(torch.float32),dim=1) , torch.argmax(y.to(torch.float32),dim=1) )\n",
    "            confusion_matrix_line = confusion_metric(torch.argmax( pred.to(torch.float32),dim=1) , torch.argmax(y.to(torch.float32),dim=1)).detach().cpu().numpy()\n",
    "\n",
    "            # print(accuracy)\n",
    "            accuracies.append(accuracy)\n",
    "            accuracy_batches.append(accuracy)\n",
    "            confusion_matrix.append(confusion_matrix_line)\n",
    "            loss_s.append(loss)\n",
    "            losses_batches.append(loss)\n",
    "        \n",
    "        for test_x,test_y in test_dl:\n",
    "            test_x = test_x.to(device,torch.float32)\n",
    "            test_y = test_y.to(device,torch.float32)\n",
    "            test_loss , test_accuracy,test_confusion_line = test_terrain(test_x,test_y,model,loss_fn,accuracy_metric, confusion_metric)\n",
    "            test_losses.append(test_loss)\n",
    "            testlosses_batches.append(test_loss)\n",
    "            test_accuracies.append(test_accuracy)\n",
    "            testaccuracy_batches.append(test_accuracy)\n",
    "            confusion_matrix_test.append(test_confusion_line)\n",
    "\n",
    "        scheduler.step()\n",
    "        evtr = sum(loss_s)/len(loss_s)\n",
    "        evte = sum(test_losses)/len(test_losses)\n",
    "        evactr = sum(accuracies)/len(accuracies)\n",
    "        evacte = sum(test_accuracies)/len(test_accuracies)\n",
    "        average_train.append(evtr)\n",
    "        average_test.append(evte)\n",
    "        average_accuracy_train.append(evactr)\n",
    "        average_accuracy_test.append(evacte)\n",
    "\n",
    "            \n",
    "        print('------------------------------------------------')\n",
    "        print('Train Loss = {:.5f}'.format(average_train[-1]))\n",
    "        print('Train Accuracy = {:.5f}'.format(average_accuracy_train[-1]))\n",
    "\n",
    "        print('Test loss = {:.5f}'.format(average_test[-1]))\n",
    "        print('Test Accuracy = {:.5f}'.format(average_accuracy_test[-1]))\n",
    "        print('learning_Rate: ',optimizer.param_groups[0]['lr'])\n",
    "        print(\"epoch :      \",i)\n",
    "        print('------------------------------------------------')\n",
    "    confusion_matrix = torch.Tensor(confusion_matrix)\n",
    "    confusion_matrix_test = torch.Tensor(confusion_matrix_test)\n",
    "    \n",
    "    return (average_train,average_test, losses_batches, testlosses_batches) , \\\n",
    "        (average_accuracy_train , average_accuracy_test , accuracy_batches , testaccuracy_batches, confusion_matrix, confusion_matrix_test)"
   ]
  },
  {
   "cell_type": "code",
   "execution_count": 67,
   "metadata": {},
   "outputs": [
    {
     "name": "stderr",
     "output_type": "stream",
     "text": [
      "  0%|          | 0/158 [00:00<?, ?it/s]"
     ]
    },
    {
     "name": "stderr",
     "output_type": "stream",
     "text": [
      "100%|██████████| 158/158 [00:00<00:00, 539.76it/s]\n"
     ]
    },
    {
     "name": "stdout",
     "output_type": "stream",
     "text": [
      "------------------------------------------------\n",
      "Train Loss = 28172.74219\n",
      "Train Accuracy = 0.72296\n",
      "Test loss = 1283.14185\n",
      "Test Accuracy = 1.00000\n",
      "learning_Rate:  0.018600000000000002\n",
      "epoch :       0\n",
      "------------------------------------------------\n"
     ]
    },
    {
     "name": "stderr",
     "output_type": "stream",
     "text": [
      "100%|██████████| 158/158 [00:00<00:00, 880.43it/s]\n"
     ]
    },
    {
     "name": "stdout",
     "output_type": "stream",
     "text": [
      "------------------------------------------------\n",
      "Train Loss = 699.17365\n",
      "Train Accuracy = 0.99911\n",
      "Test loss = 354.68063\n",
      "Test Accuracy = 1.00000\n",
      "learning_Rate:  0.017298000000000004\n",
      "epoch :       1\n",
      "------------------------------------------------\n"
     ]
    },
    {
     "name": "stderr",
     "output_type": "stream",
     "text": [
      "100%|██████████| 158/158 [00:00<00:00, 898.86it/s]\n"
     ]
    },
    {
     "name": "stdout",
     "output_type": "stream",
     "text": [
      "------------------------------------------------\n",
      "Train Loss = 371.76593\n",
      "Train Accuracy = 0.99977\n",
      "Test loss = 251.23848\n",
      "Test Accuracy = 1.00000\n",
      "learning_Rate:  0.016087140000000003\n",
      "epoch :       2\n",
      "------------------------------------------------\n"
     ]
    },
    {
     "name": "stderr",
     "output_type": "stream",
     "text": [
      "100%|██████████| 158/158 [00:00<00:00, 923.29it/s]\n"
     ]
    },
    {
     "name": "stdout",
     "output_type": "stream",
     "text": [
      "------------------------------------------------\n",
      "Train Loss = 233.45345\n",
      "Train Accuracy = 1.00000\n",
      "Test loss = 173.53203\n",
      "Test Accuracy = 1.00000\n",
      "learning_Rate:  0.014961040200000005\n",
      "epoch :       3\n",
      "------------------------------------------------\n"
     ]
    },
    {
     "name": "stderr",
     "output_type": "stream",
     "text": [
      "100%|██████████| 158/158 [00:00<00:00, 886.88it/s]\n"
     ]
    },
    {
     "name": "stdout",
     "output_type": "stream",
     "text": [
      "------------------------------------------------\n",
      "Train Loss = 184.94583\n",
      "Train Accuracy = 1.00000\n",
      "Test loss = 178.00450\n",
      "Test Accuracy = 1.00000\n",
      "learning_Rate:  0.013913767386000005\n",
      "epoch :       4\n",
      "------------------------------------------------\n"
     ]
    },
    {
     "name": "stderr",
     "output_type": "stream",
     "text": [
      "100%|██████████| 158/158 [00:00<00:00, 856.16it/s]\n"
     ]
    },
    {
     "name": "stdout",
     "output_type": "stream",
     "text": [
      "------------------------------------------------\n",
      "Train Loss = 150.55878\n",
      "Train Accuracy = 1.00000\n",
      "Test loss = 112.59669\n",
      "Test Accuracy = 1.00000\n",
      "learning_Rate:  0.012939803668980005\n",
      "epoch :       5\n",
      "------------------------------------------------\n"
     ]
    },
    {
     "name": "stderr",
     "output_type": "stream",
     "text": [
      "100%|██████████| 158/158 [00:00<00:00, 879.84it/s]\n"
     ]
    },
    {
     "name": "stdout",
     "output_type": "stream",
     "text": [
      "------------------------------------------------\n",
      "Train Loss = 114.42657\n",
      "Train Accuracy = 1.00000\n",
      "Test loss = 115.08964\n",
      "Test Accuracy = 1.00000\n",
      "learning_Rate:  0.012034017412151404\n",
      "epoch :       6\n",
      "------------------------------------------------\n"
     ]
    },
    {
     "name": "stderr",
     "output_type": "stream",
     "text": [
      "100%|██████████| 158/158 [00:00<00:00, 882.01it/s]\n"
     ]
    },
    {
     "name": "stdout",
     "output_type": "stream",
     "text": [
      "------------------------------------------------\n",
      "Train Loss = 105.51620\n",
      "Train Accuracy = 1.00000\n",
      "Test loss = 94.45824\n",
      "Test Accuracy = 1.00000\n",
      "learning_Rate:  0.011191636193300807\n",
      "epoch :       7\n",
      "------------------------------------------------\n"
     ]
    },
    {
     "name": "stderr",
     "output_type": "stream",
     "text": [
      "100%|██████████| 158/158 [00:00<00:00, 869.28it/s]\n"
     ]
    },
    {
     "name": "stdout",
     "output_type": "stream",
     "text": [
      "------------------------------------------------\n",
      "Train Loss = 98.27106\n",
      "Train Accuracy = 1.00000\n",
      "Test loss = 102.08720\n",
      "Test Accuracy = 1.00000\n",
      "learning_Rate:  0.010408221659769751\n",
      "epoch :       8\n",
      "------------------------------------------------\n"
     ]
    },
    {
     "name": "stderr",
     "output_type": "stream",
     "text": [
      "100%|██████████| 158/158 [00:00<00:00, 846.26it/s]\n"
     ]
    },
    {
     "name": "stdout",
     "output_type": "stream",
     "text": [
      "------------------------------------------------\n",
      "Train Loss = 82.34293\n",
      "Train Accuracy = 1.00000\n",
      "Test loss = 79.86392\n",
      "Test Accuracy = 1.00000\n",
      "learning_Rate:  0.009679646143585869\n",
      "epoch :       9\n",
      "------------------------------------------------\n"
     ]
    },
    {
     "name": "stderr",
     "output_type": "stream",
     "text": [
      "100%|██████████| 158/158 [00:00<00:00, 867.69it/s]\n"
     ]
    },
    {
     "name": "stdout",
     "output_type": "stream",
     "text": [
      "------------------------------------------------\n",
      "Train Loss = 71.95246\n",
      "Train Accuracy = 1.00000\n",
      "Test loss = 77.22028\n",
      "Test Accuracy = 1.00000\n",
      "learning_Rate:  0.009002070913534858\n",
      "epoch :       10\n",
      "------------------------------------------------\n"
     ]
    },
    {
     "name": "stderr",
     "output_type": "stream",
     "text": [
      "100%|██████████| 158/158 [00:00<00:00, 868.35it/s]\n"
     ]
    },
    {
     "name": "stdout",
     "output_type": "stream",
     "text": [
      "------------------------------------------------\n",
      "Train Loss = 61.42332\n",
      "Train Accuracy = 1.00000\n",
      "Test loss = 75.51892\n",
      "Test Accuracy = 1.00000\n",
      "learning_Rate:  0.008371925949587418\n",
      "epoch :       11\n",
      "------------------------------------------------\n"
     ]
    },
    {
     "name": "stderr",
     "output_type": "stream",
     "text": [
      "100%|██████████| 158/158 [00:00<00:00, 884.33it/s]\n"
     ]
    },
    {
     "name": "stdout",
     "output_type": "stream",
     "text": [
      "------------------------------------------------\n",
      "Train Loss = 58.42850\n",
      "Train Accuracy = 1.00000\n",
      "Test loss = 68.44168\n",
      "Test Accuracy = 1.00000\n",
      "learning_Rate:  0.007785891133116299\n",
      "epoch :       12\n",
      "------------------------------------------------\n"
     ]
    },
    {
     "name": "stderr",
     "output_type": "stream",
     "text": [
      "100%|██████████| 158/158 [00:00<00:00, 846.43it/s]\n"
     ]
    },
    {
     "name": "stdout",
     "output_type": "stream",
     "text": [
      "------------------------------------------------\n",
      "Train Loss = 54.76696\n",
      "Train Accuracy = 1.00000\n",
      "Test loss = 70.29864\n",
      "Test Accuracy = 1.00000\n",
      "learning_Rate:  0.0072408787537981585\n",
      "epoch :       13\n",
      "------------------------------------------------\n"
     ]
    },
    {
     "name": "stderr",
     "output_type": "stream",
     "text": [
      "100%|██████████| 158/158 [00:00<00:00, 877.98it/s]\n"
     ]
    },
    {
     "name": "stdout",
     "output_type": "stream",
     "text": [
      "------------------------------------------------\n",
      "Train Loss = 47.26875\n",
      "Train Accuracy = 1.00000\n",
      "Test loss = 77.69115\n",
      "Test Accuracy = 1.00000\n",
      "learning_Rate:  0.006734017241032288\n",
      "epoch :       14\n",
      "------------------------------------------------\n"
     ]
    },
    {
     "name": "stderr",
     "output_type": "stream",
     "text": [
      "100%|██████████| 158/158 [00:00<00:00, 797.84it/s]\n"
     ]
    },
    {
     "name": "stdout",
     "output_type": "stream",
     "text": [
      "------------------------------------------------\n",
      "Train Loss = 45.30315\n",
      "Train Accuracy = 1.00000\n",
      "Test loss = 59.23226\n",
      "Test Accuracy = 1.00000\n",
      "learning_Rate:  0.006262636034160028\n",
      "epoch :       15\n",
      "------------------------------------------------\n"
     ]
    },
    {
     "name": "stderr",
     "output_type": "stream",
     "text": [
      "100%|██████████| 158/158 [00:00<00:00, 848.17it/s]\n"
     ]
    },
    {
     "name": "stdout",
     "output_type": "stream",
     "text": [
      "------------------------------------------------\n",
      "Train Loss = 41.91106\n",
      "Train Accuracy = 1.00000\n",
      "Test loss = 60.55902\n",
      "Test Accuracy = 1.00000\n",
      "learning_Rate:  0.005824251511768827\n",
      "epoch :       16\n",
      "------------------------------------------------\n"
     ]
    },
    {
     "name": "stderr",
     "output_type": "stream",
     "text": [
      "100%|██████████| 158/158 [00:00<00:00, 882.63it/s]\n"
     ]
    },
    {
     "name": "stdout",
     "output_type": "stream",
     "text": [
      "------------------------------------------------\n",
      "Train Loss = 39.56268\n",
      "Train Accuracy = 1.00000\n",
      "Test loss = 47.19159\n",
      "Test Accuracy = 1.00000\n",
      "learning_Rate:  0.005416553905945009\n",
      "epoch :       17\n",
      "------------------------------------------------\n"
     ]
    },
    {
     "name": "stderr",
     "output_type": "stream",
     "text": [
      "100%|██████████| 158/158 [00:00<00:00, 882.34it/s]\n"
     ]
    },
    {
     "name": "stdout",
     "output_type": "stream",
     "text": [
      "------------------------------------------------\n",
      "Train Loss = 37.42560\n",
      "Train Accuracy = 1.00000\n",
      "Test loss = 48.32736\n",
      "Test Accuracy = 1.00000\n",
      "learning_Rate:  0.005037395132528859\n",
      "epoch :       18\n",
      "------------------------------------------------\n"
     ]
    },
    {
     "name": "stderr",
     "output_type": "stream",
     "text": [
      "100%|██████████| 158/158 [00:00<00:00, 877.90it/s]\n"
     ]
    },
    {
     "name": "stdout",
     "output_type": "stream",
     "text": [
      "------------------------------------------------\n",
      "Train Loss = 32.18626\n",
      "Train Accuracy = 1.00000\n",
      "Test loss = 44.10443\n",
      "Test Accuracy = 1.00000\n",
      "learning_Rate:  0.004684777473251839\n",
      "epoch :       19\n",
      "------------------------------------------------\n"
     ]
    },
    {
     "name": "stderr",
     "output_type": "stream",
     "text": [
      "100%|██████████| 158/158 [00:00<00:00, 866.70it/s]\n"
     ]
    },
    {
     "name": "stdout",
     "output_type": "stream",
     "text": [
      "------------------------------------------------\n",
      "Train Loss = 30.80042\n",
      "Train Accuracy = 1.00000\n",
      "Test loss = 45.89876\n",
      "Test Accuracy = 1.00000\n",
      "learning_Rate:  0.00435684305012421\n",
      "epoch :       20\n",
      "------------------------------------------------\n"
     ]
    },
    {
     "name": "stderr",
     "output_type": "stream",
     "text": [
      "100%|██████████| 158/158 [00:00<00:00, 877.05it/s]\n"
     ]
    },
    {
     "name": "stdout",
     "output_type": "stream",
     "text": [
      "------------------------------------------------\n",
      "Train Loss = 30.82394\n",
      "Train Accuracy = 1.00000\n",
      "Test loss = 43.81042\n",
      "Test Accuracy = 1.00000\n",
      "learning_Rate:  0.004051864036615516\n",
      "epoch :       21\n",
      "------------------------------------------------\n"
     ]
    },
    {
     "name": "stderr",
     "output_type": "stream",
     "text": [
      "100%|██████████| 158/158 [00:00<00:00, 844.93it/s]\n"
     ]
    },
    {
     "name": "stdout",
     "output_type": "stream",
     "text": [
      "------------------------------------------------\n",
      "Train Loss = 28.56420\n",
      "Train Accuracy = 1.00000\n",
      "Test loss = 36.79435\n",
      "Test Accuracy = 1.00000\n",
      "learning_Rate:  0.00376823355405243\n",
      "epoch :       22\n",
      "------------------------------------------------\n"
     ]
    },
    {
     "name": "stderr",
     "output_type": "stream",
     "text": [
      "100%|██████████| 158/158 [00:00<00:00, 882.09it/s]\n"
     ]
    },
    {
     "name": "stdout",
     "output_type": "stream",
     "text": [
      "------------------------------------------------\n",
      "Train Loss = 26.99338\n",
      "Train Accuracy = 1.00000\n",
      "Test loss = 38.32014\n",
      "Test Accuracy = 1.00000\n",
      "learning_Rate:  0.00350445720526876\n",
      "epoch :       23\n",
      "------------------------------------------------\n"
     ]
    },
    {
     "name": "stderr",
     "output_type": "stream",
     "text": [
      "100%|██████████| 158/158 [00:00<00:00, 874.56it/s]\n"
     ]
    },
    {
     "name": "stdout",
     "output_type": "stream",
     "text": [
      "------------------------------------------------\n",
      "Train Loss = 26.63824\n",
      "Train Accuracy = 1.00000\n",
      "Test loss = 33.43817\n",
      "Test Accuracy = 1.00000\n",
      "learning_Rate:  0.003259145200899947\n",
      "epoch :       24\n",
      "------------------------------------------------\n"
     ]
    },
    {
     "name": "stderr",
     "output_type": "stream",
     "text": [
      "100%|██████████| 158/158 [00:00<00:00, 825.57it/s]\n"
     ]
    },
    {
     "name": "stdout",
     "output_type": "stream",
     "text": [
      "------------------------------------------------\n",
      "Train Loss = 23.58071\n",
      "Train Accuracy = 1.00000\n",
      "Test loss = 31.00180\n",
      "Test Accuracy = 1.00000\n",
      "learning_Rate:  0.003031005036836951\n",
      "epoch :       25\n",
      "------------------------------------------------\n"
     ]
    },
    {
     "name": "stderr",
     "output_type": "stream",
     "text": [
      "100%|██████████| 158/158 [00:00<00:00, 810.77it/s]\n"
     ]
    },
    {
     "name": "stdout",
     "output_type": "stream",
     "text": [
      "------------------------------------------------\n",
      "Train Loss = 23.18484\n",
      "Train Accuracy = 1.00000\n",
      "Test loss = 35.25056\n",
      "Test Accuracy = 1.00000\n",
      "learning_Rate:  0.0028188346842583645\n",
      "epoch :       26\n",
      "------------------------------------------------\n"
     ]
    },
    {
     "name": "stderr",
     "output_type": "stream",
     "text": [
      "100%|██████████| 158/158 [00:00<00:00, 867.46it/s]\n"
     ]
    },
    {
     "name": "stdout",
     "output_type": "stream",
     "text": [
      "------------------------------------------------\n",
      "Train Loss = 21.00906\n",
      "Train Accuracy = 1.00000\n",
      "Test loss = 33.29192\n",
      "Test Accuracy = 1.00000\n",
      "learning_Rate:  0.0026215162563602793\n",
      "epoch :       27\n",
      "------------------------------------------------\n"
     ]
    },
    {
     "name": "stderr",
     "output_type": "stream",
     "text": [
      "100%|██████████| 158/158 [00:00<00:00, 879.34it/s]\n"
     ]
    },
    {
     "name": "stdout",
     "output_type": "stream",
     "text": [
      "------------------------------------------------\n",
      "Train Loss = 21.66861\n",
      "Train Accuracy = 1.00000\n",
      "Test loss = 36.63826\n",
      "Test Accuracy = 1.00000\n",
      "learning_Rate:  0.00243801011841506\n",
      "epoch :       28\n",
      "------------------------------------------------\n"
     ]
    },
    {
     "name": "stderr",
     "output_type": "stream",
     "text": [
      "100%|██████████| 158/158 [00:00<00:00, 857.45it/s]\n"
     ]
    },
    {
     "name": "stdout",
     "output_type": "stream",
     "text": [
      "------------------------------------------------\n",
      "Train Loss = 20.68674\n",
      "Train Accuracy = 1.00000\n",
      "Test loss = 32.12330\n",
      "Test Accuracy = 1.00000\n",
      "learning_Rate:  0.0022673494101260057\n",
      "epoch :       29\n",
      "------------------------------------------------\n"
     ]
    },
    {
     "name": "stderr",
     "output_type": "stream",
     "text": [
      "100%|██████████| 158/158 [00:00<00:00, 881.95it/s]\n"
     ]
    },
    {
     "name": "stdout",
     "output_type": "stream",
     "text": [
      "------------------------------------------------\n",
      "Train Loss = 18.48288\n",
      "Train Accuracy = 1.00000\n",
      "Test loss = 29.54004\n",
      "Test Accuracy = 1.00000\n",
      "learning_Rate:  0.0021086349514171853\n",
      "epoch :       30\n",
      "------------------------------------------------\n"
     ]
    },
    {
     "name": "stderr",
     "output_type": "stream",
     "text": [
      "100%|██████████| 158/158 [00:00<00:00, 888.88it/s]\n"
     ]
    },
    {
     "name": "stdout",
     "output_type": "stream",
     "text": [
      "------------------------------------------------\n",
      "Train Loss = 19.04181\n",
      "Train Accuracy = 1.00000\n",
      "Test loss = 29.78333\n",
      "Test Accuracy = 1.00000\n",
      "learning_Rate:  0.0019610305048179824\n",
      "epoch :       31\n",
      "------------------------------------------------\n"
     ]
    },
    {
     "name": "stderr",
     "output_type": "stream",
     "text": [
      "100%|██████████| 158/158 [00:00<00:00, 874.35it/s]\n"
     ]
    },
    {
     "name": "stdout",
     "output_type": "stream",
     "text": [
      "------------------------------------------------\n",
      "Train Loss = 17.70078\n",
      "Train Accuracy = 1.00000\n",
      "Test loss = 29.88954\n",
      "Test Accuracy = 1.00000\n",
      "learning_Rate:  0.0018237583694807238\n",
      "epoch :       32\n",
      "------------------------------------------------\n"
     ]
    },
    {
     "name": "stderr",
     "output_type": "stream",
     "text": [
      "100%|██████████| 158/158 [00:00<00:00, 854.14it/s]\n"
     ]
    },
    {
     "name": "stdout",
     "output_type": "stream",
     "text": [
      "------------------------------------------------\n",
      "Train Loss = 17.39352\n",
      "Train Accuracy = 1.00000\n",
      "Test loss = 28.19747\n",
      "Test Accuracy = 1.00000\n",
      "learning_Rate:  0.0016960952836170733\n",
      "epoch :       33\n",
      "------------------------------------------------\n"
     ]
    },
    {
     "name": "stderr",
     "output_type": "stream",
     "text": [
      "100%|██████████| 158/158 [00:00<00:00, 881.39it/s]\n"
     ]
    },
    {
     "name": "stdout",
     "output_type": "stream",
     "text": [
      "------------------------------------------------\n",
      "Train Loss = 17.18371\n",
      "Train Accuracy = 1.00000\n",
      "Test loss = 26.67918\n",
      "Test Accuracy = 1.00000\n",
      "learning_Rate:  0.0015773686137638783\n",
      "epoch :       34\n",
      "------------------------------------------------\n"
     ]
    },
    {
     "name": "stderr",
     "output_type": "stream",
     "text": [
      "100%|██████████| 158/158 [00:00<00:00, 883.43it/s]\n"
     ]
    },
    {
     "name": "stdout",
     "output_type": "stream",
     "text": [
      "------------------------------------------------\n",
      "Train Loss = 16.56510\n",
      "Train Accuracy = 1.00000\n",
      "Test loss = 26.82472\n",
      "Test Accuracy = 1.00000\n",
      "learning_Rate:  0.001466952810800407\n",
      "epoch :       35\n",
      "------------------------------------------------\n"
     ]
    },
    {
     "name": "stderr",
     "output_type": "stream",
     "text": [
      "100%|██████████| 158/158 [00:00<00:00, 878.49it/s]\n"
     ]
    },
    {
     "name": "stdout",
     "output_type": "stream",
     "text": [
      "------------------------------------------------\n",
      "Train Loss = 15.89301\n",
      "Train Accuracy = 1.00000\n",
      "Test loss = 24.53787\n",
      "Test Accuracy = 1.00000\n",
      "learning_Rate:  0.0013642661140443786\n",
      "epoch :       36\n",
      "------------------------------------------------\n"
     ]
    },
    {
     "name": "stderr",
     "output_type": "stream",
     "text": [
      "100%|██████████| 158/158 [00:00<00:00, 791.63it/s]\n"
     ]
    },
    {
     "name": "stdout",
     "output_type": "stream",
     "text": [
      "------------------------------------------------\n",
      "Train Loss = 15.51098\n",
      "Train Accuracy = 1.00000\n",
      "Test loss = 25.07803\n",
      "Test Accuracy = 1.00000\n",
      "learning_Rate:  0.0012687674860612722\n",
      "epoch :       37\n",
      "------------------------------------------------\n"
     ]
    },
    {
     "name": "stderr",
     "output_type": "stream",
     "text": [
      "100%|██████████| 158/158 [00:00<00:00, 883.98it/s]\n"
     ]
    },
    {
     "name": "stdout",
     "output_type": "stream",
     "text": [
      "------------------------------------------------\n",
      "Train Loss = 14.63068\n",
      "Train Accuracy = 1.00000\n",
      "Test loss = 25.26758\n",
      "Test Accuracy = 1.00000\n",
      "learning_Rate:  0.0011799537620369833\n",
      "epoch :       38\n",
      "------------------------------------------------\n"
     ]
    },
    {
     "name": "stderr",
     "output_type": "stream",
     "text": [
      "100%|██████████| 158/158 [00:00<00:00, 891.82it/s]\n"
     ]
    },
    {
     "name": "stdout",
     "output_type": "stream",
     "text": [
      "------------------------------------------------\n",
      "Train Loss = 14.40283\n",
      "Train Accuracy = 1.00000\n",
      "Test loss = 24.49710\n",
      "Test Accuracy = 1.00000\n",
      "learning_Rate:  0.0010973569986943946\n",
      "epoch :       39\n",
      "------------------------------------------------\n"
     ]
    },
    {
     "name": "stderr",
     "output_type": "stream",
     "text": [
      "100%|██████████| 158/158 [00:00<00:00, 870.88it/s]\n"
     ]
    },
    {
     "name": "stdout",
     "output_type": "stream",
     "text": [
      "------------------------------------------------\n",
      "Train Loss = 14.21978\n",
      "Train Accuracy = 1.00000\n",
      "Test loss = 23.82575\n",
      "Test Accuracy = 1.00000\n",
      "learning_Rate:  0.0010205420087857871\n",
      "epoch :       40\n",
      "------------------------------------------------\n"
     ]
    },
    {
     "name": "stderr",
     "output_type": "stream",
     "text": [
      "100%|██████████| 158/158 [00:00<00:00, 873.29it/s]\n"
     ]
    },
    {
     "name": "stdout",
     "output_type": "stream",
     "text": [
      "------------------------------------------------\n",
      "Train Loss = 13.59282\n",
      "Train Accuracy = 1.00000\n",
      "Test loss = 24.40169\n",
      "Test Accuracy = 1.00000\n",
      "learning_Rate:  0.000949104068170782\n",
      "epoch :       41\n",
      "------------------------------------------------\n"
     ]
    },
    {
     "name": "stderr",
     "output_type": "stream",
     "text": [
      "100%|██████████| 158/158 [00:00<00:00, 870.59it/s]\n"
     ]
    },
    {
     "name": "stdout",
     "output_type": "stream",
     "text": [
      "------------------------------------------------\n",
      "Train Loss = 13.37057\n",
      "Train Accuracy = 1.00000\n",
      "Test loss = 23.47390\n",
      "Test Accuracy = 1.00000\n",
      "learning_Rate:  0.0008826667833988273\n",
      "epoch :       42\n",
      "------------------------------------------------\n"
     ]
    },
    {
     "name": "stderr",
     "output_type": "stream",
     "text": [
      "100%|██████████| 158/158 [00:00<00:00, 887.31it/s]\n"
     ]
    },
    {
     "name": "stdout",
     "output_type": "stream",
     "text": [
      "------------------------------------------------\n",
      "Train Loss = 12.97406\n",
      "Train Accuracy = 1.00000\n",
      "Test loss = 24.12409\n",
      "Test Accuracy = 1.00000\n",
      "learning_Rate:  0.0008208801085609095\n",
      "epoch :       43\n",
      "------------------------------------------------\n"
     ]
    },
    {
     "name": "stderr",
     "output_type": "stream",
     "text": [
      "100%|██████████| 158/158 [00:00<00:00, 879.83it/s]\n"
     ]
    },
    {
     "name": "stdout",
     "output_type": "stream",
     "text": [
      "------------------------------------------------\n",
      "Train Loss = 13.00608\n",
      "Train Accuracy = 1.00000\n",
      "Test loss = 23.15488\n",
      "Test Accuracy = 1.00000\n",
      "learning_Rate:  0.0007634185009616458\n",
      "epoch :       44\n",
      "------------------------------------------------\n"
     ]
    },
    {
     "name": "stderr",
     "output_type": "stream",
     "text": [
      "100%|██████████| 158/158 [00:00<00:00, 868.60it/s]\n"
     ]
    },
    {
     "name": "stdout",
     "output_type": "stream",
     "text": [
      "------------------------------------------------\n",
      "Train Loss = 12.60172\n",
      "Train Accuracy = 1.00000\n",
      "Test loss = 22.67974\n",
      "Test Accuracy = 1.00000\n",
      "learning_Rate:  0.0007099792058943307\n",
      "epoch :       45\n",
      "------------------------------------------------\n"
     ]
    },
    {
     "name": "stderr",
     "output_type": "stream",
     "text": [
      "100%|██████████| 158/158 [00:00<00:00, 870.98it/s]\n"
     ]
    },
    {
     "name": "stdout",
     "output_type": "stream",
     "text": [
      "------------------------------------------------\n",
      "Train Loss = 12.34832\n",
      "Train Accuracy = 1.00000\n",
      "Test loss = 22.70550\n",
      "Test Accuracy = 1.00000\n",
      "learning_Rate:  0.0006602806614817275\n",
      "epoch :       46\n",
      "------------------------------------------------\n"
     ]
    },
    {
     "name": "stderr",
     "output_type": "stream",
     "text": [
      "100%|██████████| 158/158 [00:00<00:00, 859.90it/s]\n"
     ]
    },
    {
     "name": "stdout",
     "output_type": "stream",
     "text": [
      "------------------------------------------------\n",
      "Train Loss = 12.14124\n",
      "Train Accuracy = 1.00000\n",
      "Test loss = 22.43349\n",
      "Test Accuracy = 1.00000\n",
      "learning_Rate:  0.0006140610151780066\n",
      "epoch :       47\n",
      "------------------------------------------------\n"
     ]
    },
    {
     "name": "stderr",
     "output_type": "stream",
     "text": [
      "100%|██████████| 158/158 [00:00<00:00, 880.56it/s]\n"
     ]
    },
    {
     "name": "stdout",
     "output_type": "stream",
     "text": [
      "------------------------------------------------\n",
      "Train Loss = 12.19017\n",
      "Train Accuracy = 1.00000\n",
      "Test loss = 21.65820\n",
      "Test Accuracy = 1.00000\n",
      "learning_Rate:  0.0005710767441155462\n",
      "epoch :       48\n",
      "------------------------------------------------\n"
     ]
    },
    {
     "name": "stderr",
     "output_type": "stream",
     "text": [
      "100%|██████████| 158/158 [00:00<00:00, 870.39it/s]\n"
     ]
    },
    {
     "name": "stdout",
     "output_type": "stream",
     "text": [
      "------------------------------------------------\n",
      "Train Loss = 11.90379\n",
      "Train Accuracy = 1.00000\n",
      "Test loss = 21.44804\n",
      "Test Accuracy = 1.00000\n",
      "learning_Rate:  0.000531101372027458\n",
      "epoch :       49\n",
      "------------------------------------------------\n"
     ]
    },
    {
     "name": "stderr",
     "output_type": "stream",
     "text": [
      "/tmp/ipykernel_11589/2962194841.py:97: UserWarning: Creating a tensor from a list of numpy.ndarrays is extremely slow. Please consider converting the list to a single numpy.ndarray with numpy.array() before converting to a tensor. (Triggered internally at /opt/conda/conda-bld/pytorch_1695392020195/work/torch/csrc/utils/tensor_new.cpp:261.)\n",
      "  confusion_matrix = torch.Tensor(confusion_matrix)\n"
     ]
    }
   ],
   "source": [
    "epoch = 50\n",
    "losspart,accpart = train_terrain(train_dl , valid_dl ,Model , loss_fn , epoch, optimizer , device)"
   ]
  },
  {
   "cell_type": "code",
   "execution_count": 68,
   "metadata": {},
   "outputs": [],
   "source": [
    "# Save Pt File\n",
    "torch.save(Model.state_dict(), './FC_Model.pt')"
   ]
  },
  {
   "cell_type": "code",
   "execution_count": null,
   "metadata": {},
   "outputs": [],
   "source": []
  }
 ],
 "metadata": {
  "kernelspec": {
   "display_name": "jh",
   "language": "python",
   "name": "python3"
  },
  "language_info": {
   "codemirror_mode": {
    "name": "ipython",
    "version": 3
   },
   "file_extension": ".py",
   "mimetype": "text/x-python",
   "name": "python",
   "nbconvert_exporter": "python",
   "pygments_lexer": "ipython3",
   "version": "3.8.18"
  }
 },
 "nbformat": 4,
 "nbformat_minor": 2
}
